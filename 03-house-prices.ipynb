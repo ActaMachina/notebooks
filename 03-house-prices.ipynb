{
 "cells": [
  {
   "cell_type": "markdown",
   "metadata": {
    "tags": [
     "ignore"
    ]
   },
   "source": [
    "# Location, Location, Location?"
   ]
  },
  {
   "cell_type": "markdown",
   "metadata": {
    "tags": [
     "ignore"
    ]
   },
   "source": [
    "*Machine Learning regression using the Ames Housing dataset.*"
   ]
  },
  {
   "cell_type": "markdown",
   "metadata": {},
   "source": [
    "This post introduces Machine Learning regression. Regression is the prediction of a quantity/number, in contrast with classification where a class is predicted. We will use the Ames Housing Dataset compiled by Dean De Cock to predict the sale price of houses in Ames, Iowa.\n",
    "\n",
    "In this post, you'll learn how to:\n",
    "- present data using the Seaborn data visualisation package;\n",
    "- train and evaluate a regression model; and\n",
    "- combine multiple models for a better result.\n",
    "\n",
    "By the end, you'll learn how to predict the sale price of all 1,459 houses in `test.csv`. Here are a preview of the first 5 houses:"
   ]
  },
  {
   "cell_type": "code",
   "execution_count": 11,
   "metadata": {
    "ExecuteTime": {
     "end_time": "2019-01-16T00:06:27.025220Z",
     "start_time": "2019-01-16T00:06:26.992851Z"
    },
    "tags": [
     "ignore-input"
    ]
   },
   "outputs": [
    {
     "data": {
      "text/html": [
       "<div>\n",
       "<style scoped>\n",
       "    .dataframe tbody tr th:only-of-type {\n",
       "        vertical-align: middle;\n",
       "    }\n",
       "\n",
       "    .dataframe tbody tr th {\n",
       "        vertical-align: top;\n",
       "    }\n",
       "\n",
       "    .dataframe thead th {\n",
       "        text-align: right;\n",
       "    }\n",
       "</style>\n",
       "<table border=\"1\" class=\"dataframe\">\n",
       "  <thead>\n",
       "    <tr style=\"text-align: right;\">\n",
       "      <th></th>\n",
       "      <th>MSSubClass</th>\n",
       "      <th>MSZoning</th>\n",
       "      <th>LotFrontage</th>\n",
       "      <th>LotArea</th>\n",
       "      <th>Street</th>\n",
       "      <th>Alley</th>\n",
       "      <th>LotShape</th>\n",
       "      <th>LandContour</th>\n",
       "      <th>Utilities</th>\n",
       "      <th>LotConfig</th>\n",
       "      <th>...</th>\n",
       "      <th>ScreenPorch</th>\n",
       "      <th>PoolArea</th>\n",
       "      <th>PoolQC</th>\n",
       "      <th>Fence</th>\n",
       "      <th>MiscFeature</th>\n",
       "      <th>MiscVal</th>\n",
       "      <th>MoSold</th>\n",
       "      <th>YrSold</th>\n",
       "      <th>SaleType</th>\n",
       "      <th>SaleCondition</th>\n",
       "    </tr>\n",
       "    <tr>\n",
       "      <th>Id</th>\n",
       "      <th></th>\n",
       "      <th></th>\n",
       "      <th></th>\n",
       "      <th></th>\n",
       "      <th></th>\n",
       "      <th></th>\n",
       "      <th></th>\n",
       "      <th></th>\n",
       "      <th></th>\n",
       "      <th></th>\n",
       "      <th></th>\n",
       "      <th></th>\n",
       "      <th></th>\n",
       "      <th></th>\n",
       "      <th></th>\n",
       "      <th></th>\n",
       "      <th></th>\n",
       "      <th></th>\n",
       "      <th></th>\n",
       "      <th></th>\n",
       "      <th></th>\n",
       "    </tr>\n",
       "  </thead>\n",
       "  <tbody>\n",
       "    <tr>\n",
       "      <th>1461</th>\n",
       "      <td>20</td>\n",
       "      <td>RH</td>\n",
       "      <td>80.0</td>\n",
       "      <td>11622</td>\n",
       "      <td>Pave</td>\n",
       "      <td>NaN</td>\n",
       "      <td>Reg</td>\n",
       "      <td>Lvl</td>\n",
       "      <td>AllPub</td>\n",
       "      <td>Inside</td>\n",
       "      <td>...</td>\n",
       "      <td>120</td>\n",
       "      <td>0</td>\n",
       "      <td>NaN</td>\n",
       "      <td>MnPrv</td>\n",
       "      <td>NaN</td>\n",
       "      <td>0</td>\n",
       "      <td>6</td>\n",
       "      <td>2010</td>\n",
       "      <td>WD</td>\n",
       "      <td>Normal</td>\n",
       "    </tr>\n",
       "    <tr>\n",
       "      <th>1462</th>\n",
       "      <td>20</td>\n",
       "      <td>RL</td>\n",
       "      <td>81.0</td>\n",
       "      <td>14267</td>\n",
       "      <td>Pave</td>\n",
       "      <td>NaN</td>\n",
       "      <td>IR1</td>\n",
       "      <td>Lvl</td>\n",
       "      <td>AllPub</td>\n",
       "      <td>Corner</td>\n",
       "      <td>...</td>\n",
       "      <td>0</td>\n",
       "      <td>0</td>\n",
       "      <td>NaN</td>\n",
       "      <td>NaN</td>\n",
       "      <td>Gar2</td>\n",
       "      <td>12500</td>\n",
       "      <td>6</td>\n",
       "      <td>2010</td>\n",
       "      <td>WD</td>\n",
       "      <td>Normal</td>\n",
       "    </tr>\n",
       "    <tr>\n",
       "      <th>1463</th>\n",
       "      <td>60</td>\n",
       "      <td>RL</td>\n",
       "      <td>74.0</td>\n",
       "      <td>13830</td>\n",
       "      <td>Pave</td>\n",
       "      <td>NaN</td>\n",
       "      <td>IR1</td>\n",
       "      <td>Lvl</td>\n",
       "      <td>AllPub</td>\n",
       "      <td>Inside</td>\n",
       "      <td>...</td>\n",
       "      <td>0</td>\n",
       "      <td>0</td>\n",
       "      <td>NaN</td>\n",
       "      <td>MnPrv</td>\n",
       "      <td>NaN</td>\n",
       "      <td>0</td>\n",
       "      <td>3</td>\n",
       "      <td>2010</td>\n",
       "      <td>WD</td>\n",
       "      <td>Normal</td>\n",
       "    </tr>\n",
       "    <tr>\n",
       "      <th>1464</th>\n",
       "      <td>60</td>\n",
       "      <td>RL</td>\n",
       "      <td>78.0</td>\n",
       "      <td>9978</td>\n",
       "      <td>Pave</td>\n",
       "      <td>NaN</td>\n",
       "      <td>IR1</td>\n",
       "      <td>Lvl</td>\n",
       "      <td>AllPub</td>\n",
       "      <td>Inside</td>\n",
       "      <td>...</td>\n",
       "      <td>0</td>\n",
       "      <td>0</td>\n",
       "      <td>NaN</td>\n",
       "      <td>NaN</td>\n",
       "      <td>NaN</td>\n",
       "      <td>0</td>\n",
       "      <td>6</td>\n",
       "      <td>2010</td>\n",
       "      <td>WD</td>\n",
       "      <td>Normal</td>\n",
       "    </tr>\n",
       "    <tr>\n",
       "      <th>1465</th>\n",
       "      <td>120</td>\n",
       "      <td>RL</td>\n",
       "      <td>43.0</td>\n",
       "      <td>5005</td>\n",
       "      <td>Pave</td>\n",
       "      <td>NaN</td>\n",
       "      <td>IR1</td>\n",
       "      <td>HLS</td>\n",
       "      <td>AllPub</td>\n",
       "      <td>Inside</td>\n",
       "      <td>...</td>\n",
       "      <td>144</td>\n",
       "      <td>0</td>\n",
       "      <td>NaN</td>\n",
       "      <td>NaN</td>\n",
       "      <td>NaN</td>\n",
       "      <td>0</td>\n",
       "      <td>1</td>\n",
       "      <td>2010</td>\n",
       "      <td>WD</td>\n",
       "      <td>Normal</td>\n",
       "    </tr>\n",
       "  </tbody>\n",
       "</table>\n",
       "<p>5 rows × 79 columns</p>\n",
       "</div>"
      ],
      "text/plain": [
       "      MSSubClass MSZoning  LotFrontage  LotArea Street Alley LotShape  \\\n",
       "Id                                                                      \n",
       "1461          20       RH         80.0    11622   Pave   NaN      Reg   \n",
       "1462          20       RL         81.0    14267   Pave   NaN      IR1   \n",
       "1463          60       RL         74.0    13830   Pave   NaN      IR1   \n",
       "1464          60       RL         78.0     9978   Pave   NaN      IR1   \n",
       "1465         120       RL         43.0     5005   Pave   NaN      IR1   \n",
       "\n",
       "     LandContour Utilities LotConfig      ...       ScreenPorch PoolArea  \\\n",
       "Id                                        ...                              \n",
       "1461         Lvl    AllPub    Inside      ...               120        0   \n",
       "1462         Lvl    AllPub    Corner      ...                 0        0   \n",
       "1463         Lvl    AllPub    Inside      ...                 0        0   \n",
       "1464         Lvl    AllPub    Inside      ...                 0        0   \n",
       "1465         HLS    AllPub    Inside      ...               144        0   \n",
       "\n",
       "     PoolQC  Fence MiscFeature MiscVal  MoSold  YrSold  SaleType  \\\n",
       "Id                                                                 \n",
       "1461    NaN  MnPrv         NaN       0       6    2010        WD   \n",
       "1462    NaN    NaN        Gar2   12500       6    2010        WD   \n",
       "1463    NaN  MnPrv         NaN       0       3    2010        WD   \n",
       "1464    NaN    NaN         NaN       0       6    2010        WD   \n",
       "1465    NaN    NaN         NaN       0       1    2010        WD   \n",
       "\n",
       "      SaleCondition  \n",
       "Id                   \n",
       "1461         Normal  \n",
       "1462         Normal  \n",
       "1463         Normal  \n",
       "1464         Normal  \n",
       "1465         Normal  \n",
       "\n",
       "[5 rows x 79 columns]"
      ]
     },
     "execution_count": 11,
     "metadata": {},
     "output_type": "execute_result"
    }
   ],
   "source": [
    "df = pd.read_csv('data/house_prices/test.csv', index_col='Id')\n",
    "df.head()"
   ]
  },
  {
   "cell_type": "markdown",
   "metadata": {},
   "source": [
    "This [notebook is available on GitHub](https://github.com/ActaMachina/notebooks/blob/master/03-house-prices.ipynb) and the [data is hosted on Amazon CloudFront](/data/03-house-prices.zip)."
   ]
  },
  {
   "cell_type": "markdown",
   "metadata": {
    "tags": [
     "ignore"
    ]
   },
   "source": [
    "## Preamble"
   ]
  },
  {
   "cell_type": "code",
   "execution_count": 2,
   "metadata": {
    "ExecuteTime": {
     "end_time": "2019-01-15T23:41:05.198418Z",
     "start_time": "2019-01-15T23:41:05.056235Z"
    },
    "tags": [
     "ignore"
    ]
   },
   "outputs": [],
   "source": [
    "from IPython.display import Image\n",
    "from matplotlib import lines\n",
    "\n",
    "import matplotlib.pyplot as plt\n",
    "import warnings\n",
    "warnings.filterwarnings('ignore', category=DeprecationWarning)\n",
    "warnings.filterwarnings('ignore', category=RuntimeWarning)"
   ]
  },
  {
   "cell_type": "markdown",
   "metadata": {},
   "source": [
    "## Import Packages"
   ]
  },
  {
   "cell_type": "markdown",
   "metadata": {},
   "source": [
    "We'll be importing the same packages as the previous post, namely `scipy`, `sklearn` and `pandas`. We'll also include the data visualisation library `seaborn` since it contains some useful plots."
   ]
  },
  {
   "cell_type": "code",
   "execution_count": 4,
   "metadata": {
    "ExecuteTime": {
     "end_time": "2019-01-15T23:41:58.835909Z",
     "start_time": "2019-01-15T23:41:58.416501Z"
    }
   },
   "outputs": [],
   "source": [
    "from scipy.special import boxcox1p, inv_boxcox\n",
    "from scipy.stats import skew\n",
    "\n",
    "from pandas.api.types import CategoricalDtype\n",
    "\n",
    "from sklearn.base import clone, BaseEstimator, RegressorMixin\n",
    "from sklearn.ensemble import RandomForestRegressor\n",
    "from sklearn.model_selection import cross_val_score, train_test_split\n",
    "from sklearn.linear_model import Lasso, Ridge\n",
    "\n",
    "import pandas as pd\n",
    "import seaborn as sns"
   ]
  },
  {
   "cell_type": "markdown",
   "metadata": {},
   "source": [
    "## Load Data"
   ]
  },
  {
   "cell_type": "markdown",
   "metadata": {},
   "source": [
    "Let's load the training data in `train.csv` into a Pandas DataFrame with `Id` as index.\n",
    "\n",
    "Unlike the previous post, where we only had one row to predict, we wish to predict all 1,459 rows inside `test.csv`.  So, load the training and test data from two separate files into two DataFrames: `df_train` (1,460 rows) and `df_test` (1,459 rows). Any analysis and insights should only be obtained from the `df_train` and not be informed by `df_test`."
   ]
  },
  {
   "cell_type": "code",
   "execution_count": 12,
   "metadata": {
    "ExecuteTime": {
     "end_time": "2019-01-16T00:06:34.558964Z",
     "start_time": "2019-01-16T00:06:34.515593Z"
    }
   },
   "outputs": [
    {
     "data": {
      "text/html": [
       "<div>\n",
       "<style scoped>\n",
       "    .dataframe tbody tr th:only-of-type {\n",
       "        vertical-align: middle;\n",
       "    }\n",
       "\n",
       "    .dataframe tbody tr th {\n",
       "        vertical-align: top;\n",
       "    }\n",
       "\n",
       "    .dataframe thead th {\n",
       "        text-align: right;\n",
       "    }\n",
       "</style>\n",
       "<table border=\"1\" class=\"dataframe\">\n",
       "  <thead>\n",
       "    <tr style=\"text-align: right;\">\n",
       "      <th></th>\n",
       "      <th>MSSubClass</th>\n",
       "      <th>MSZoning</th>\n",
       "      <th>LotFrontage</th>\n",
       "      <th>LotArea</th>\n",
       "      <th>Street</th>\n",
       "      <th>Alley</th>\n",
       "      <th>LotShape</th>\n",
       "      <th>LandContour</th>\n",
       "      <th>Utilities</th>\n",
       "      <th>LotConfig</th>\n",
       "      <th>...</th>\n",
       "      <th>PoolArea</th>\n",
       "      <th>PoolQC</th>\n",
       "      <th>Fence</th>\n",
       "      <th>MiscFeature</th>\n",
       "      <th>MiscVal</th>\n",
       "      <th>MoSold</th>\n",
       "      <th>YrSold</th>\n",
       "      <th>SaleType</th>\n",
       "      <th>SaleCondition</th>\n",
       "      <th>SalePrice</th>\n",
       "    </tr>\n",
       "    <tr>\n",
       "      <th>Id</th>\n",
       "      <th></th>\n",
       "      <th></th>\n",
       "      <th></th>\n",
       "      <th></th>\n",
       "      <th></th>\n",
       "      <th></th>\n",
       "      <th></th>\n",
       "      <th></th>\n",
       "      <th></th>\n",
       "      <th></th>\n",
       "      <th></th>\n",
       "      <th></th>\n",
       "      <th></th>\n",
       "      <th></th>\n",
       "      <th></th>\n",
       "      <th></th>\n",
       "      <th></th>\n",
       "      <th></th>\n",
       "      <th></th>\n",
       "      <th></th>\n",
       "      <th></th>\n",
       "    </tr>\n",
       "  </thead>\n",
       "  <tbody>\n",
       "    <tr>\n",
       "      <th>1</th>\n",
       "      <td>60</td>\n",
       "      <td>RL</td>\n",
       "      <td>65.0</td>\n",
       "      <td>8450</td>\n",
       "      <td>Pave</td>\n",
       "      <td>NaN</td>\n",
       "      <td>Reg</td>\n",
       "      <td>Lvl</td>\n",
       "      <td>AllPub</td>\n",
       "      <td>Inside</td>\n",
       "      <td>...</td>\n",
       "      <td>0</td>\n",
       "      <td>NaN</td>\n",
       "      <td>NaN</td>\n",
       "      <td>NaN</td>\n",
       "      <td>0</td>\n",
       "      <td>2</td>\n",
       "      <td>2008</td>\n",
       "      <td>WD</td>\n",
       "      <td>Normal</td>\n",
       "      <td>208500</td>\n",
       "    </tr>\n",
       "    <tr>\n",
       "      <th>2</th>\n",
       "      <td>20</td>\n",
       "      <td>RL</td>\n",
       "      <td>80.0</td>\n",
       "      <td>9600</td>\n",
       "      <td>Pave</td>\n",
       "      <td>NaN</td>\n",
       "      <td>Reg</td>\n",
       "      <td>Lvl</td>\n",
       "      <td>AllPub</td>\n",
       "      <td>FR2</td>\n",
       "      <td>...</td>\n",
       "      <td>0</td>\n",
       "      <td>NaN</td>\n",
       "      <td>NaN</td>\n",
       "      <td>NaN</td>\n",
       "      <td>0</td>\n",
       "      <td>5</td>\n",
       "      <td>2007</td>\n",
       "      <td>WD</td>\n",
       "      <td>Normal</td>\n",
       "      <td>181500</td>\n",
       "    </tr>\n",
       "    <tr>\n",
       "      <th>3</th>\n",
       "      <td>60</td>\n",
       "      <td>RL</td>\n",
       "      <td>68.0</td>\n",
       "      <td>11250</td>\n",
       "      <td>Pave</td>\n",
       "      <td>NaN</td>\n",
       "      <td>IR1</td>\n",
       "      <td>Lvl</td>\n",
       "      <td>AllPub</td>\n",
       "      <td>Inside</td>\n",
       "      <td>...</td>\n",
       "      <td>0</td>\n",
       "      <td>NaN</td>\n",
       "      <td>NaN</td>\n",
       "      <td>NaN</td>\n",
       "      <td>0</td>\n",
       "      <td>9</td>\n",
       "      <td>2008</td>\n",
       "      <td>WD</td>\n",
       "      <td>Normal</td>\n",
       "      <td>223500</td>\n",
       "    </tr>\n",
       "    <tr>\n",
       "      <th>4</th>\n",
       "      <td>70</td>\n",
       "      <td>RL</td>\n",
       "      <td>60.0</td>\n",
       "      <td>9550</td>\n",
       "      <td>Pave</td>\n",
       "      <td>NaN</td>\n",
       "      <td>IR1</td>\n",
       "      <td>Lvl</td>\n",
       "      <td>AllPub</td>\n",
       "      <td>Corner</td>\n",
       "      <td>...</td>\n",
       "      <td>0</td>\n",
       "      <td>NaN</td>\n",
       "      <td>NaN</td>\n",
       "      <td>NaN</td>\n",
       "      <td>0</td>\n",
       "      <td>2</td>\n",
       "      <td>2006</td>\n",
       "      <td>WD</td>\n",
       "      <td>Abnorml</td>\n",
       "      <td>140000</td>\n",
       "    </tr>\n",
       "    <tr>\n",
       "      <th>5</th>\n",
       "      <td>60</td>\n",
       "      <td>RL</td>\n",
       "      <td>84.0</td>\n",
       "      <td>14260</td>\n",
       "      <td>Pave</td>\n",
       "      <td>NaN</td>\n",
       "      <td>IR1</td>\n",
       "      <td>Lvl</td>\n",
       "      <td>AllPub</td>\n",
       "      <td>FR2</td>\n",
       "      <td>...</td>\n",
       "      <td>0</td>\n",
       "      <td>NaN</td>\n",
       "      <td>NaN</td>\n",
       "      <td>NaN</td>\n",
       "      <td>0</td>\n",
       "      <td>12</td>\n",
       "      <td>2008</td>\n",
       "      <td>WD</td>\n",
       "      <td>Normal</td>\n",
       "      <td>250000</td>\n",
       "    </tr>\n",
       "  </tbody>\n",
       "</table>\n",
       "<p>5 rows × 80 columns</p>\n",
       "</div>"
      ],
      "text/plain": [
       "    MSSubClass MSZoning  LotFrontage  LotArea Street Alley LotShape  \\\n",
       "Id                                                                    \n",
       "1           60       RL         65.0     8450   Pave   NaN      Reg   \n",
       "2           20       RL         80.0     9600   Pave   NaN      Reg   \n",
       "3           60       RL         68.0    11250   Pave   NaN      IR1   \n",
       "4           70       RL         60.0     9550   Pave   NaN      IR1   \n",
       "5           60       RL         84.0    14260   Pave   NaN      IR1   \n",
       "\n",
       "   LandContour Utilities LotConfig    ...     PoolArea PoolQC Fence  \\\n",
       "Id                                    ...                             \n",
       "1          Lvl    AllPub    Inside    ...            0    NaN   NaN   \n",
       "2          Lvl    AllPub       FR2    ...            0    NaN   NaN   \n",
       "3          Lvl    AllPub    Inside    ...            0    NaN   NaN   \n",
       "4          Lvl    AllPub    Corner    ...            0    NaN   NaN   \n",
       "5          Lvl    AllPub       FR2    ...            0    NaN   NaN   \n",
       "\n",
       "   MiscFeature MiscVal MoSold  YrSold  SaleType  SaleCondition  SalePrice  \n",
       "Id                                                                         \n",
       "1          NaN       0      2    2008        WD         Normal     208500  \n",
       "2          NaN       0      5    2007        WD         Normal     181500  \n",
       "3          NaN       0      9    2008        WD         Normal     223500  \n",
       "4          NaN       0      2    2006        WD        Abnorml     140000  \n",
       "5          NaN       0     12    2008        WD         Normal     250000  \n",
       "\n",
       "[5 rows x 80 columns]"
      ]
     },
     "execution_count": 12,
     "metadata": {},
     "output_type": "execute_result"
    }
   ],
   "source": [
    "df_train = pd.read_csv('data/house_prices/train.csv', index_col='Id')\n",
    "df_test = pd.read_csv('data/house_prices/test.csv', index_col='Id')\n",
    "\n",
    "df_train.head()"
   ]
  },
  {
   "cell_type": "markdown",
   "metadata": {
    "ExecuteTime": {
     "end_time": "2018-12-11T01:04:29.228215Z",
     "start_time": "2018-12-11T01:04:29.225804Z"
    }
   },
   "source": [
    "The DataFrame has 80 columns:"
   ]
  },
  {
   "cell_type": "code",
   "execution_count": 13,
   "metadata": {
    "ExecuteTime": {
     "end_time": "2019-01-16T00:06:35.348308Z",
     "start_time": "2019-01-16T00:06:35.342376Z"
    }
   },
   "outputs": [
    {
     "name": "stdout",
     "output_type": "stream",
     "text": [
      "<class 'pandas.core.frame.DataFrame'>\n",
      "Int64Index: 1460 entries, 1 to 1460\n",
      "Columns: 80 entries, MSSubClass to SalePrice\n",
      "dtypes: float64(3), int64(34), object(43)\n",
      "memory usage: 923.9+ KB\n"
     ]
    }
   ],
   "source": [
    "df_train.info(verbose=False)"
   ]
  },
  {
   "cell_type": "markdown",
   "metadata": {},
   "source": [
    "Some of the features include `SalePrice`, `MSSubClass`, `MSZoning` and `LotFrontage`:"
   ]
  },
  {
   "cell_type": "markdown",
   "metadata": {},
   "source": [
    "| Feature  | Description |\n",
    "| -------- | ----------- |\n",
    "| SalePrice | Property's Sale Price in Dollars |\n",
    "| MSSubClass | Building Class |\n",
    "| MSZoning | General Zoning Classification |\n",
    "| LotFrontage | Linear Feet of Street Connected to Property |\n",
    "| ... | ... |"
   ]
  },
  {
   "cell_type": "markdown",
   "metadata": {},
   "source": [
    "The data visualisation library, Seaborn, has lots of interesting plots like Hexbin, Kernel Density Estimate (KDE) and Violin plots.\n",
    "\n",
    "This Heatmap plot shows the relationships of the 7 features most correlated with `SalePrice`: "
   ]
  },
  {
   "cell_type": "code",
   "execution_count": 14,
   "metadata": {
    "ExecuteTime": {
     "end_time": "2019-01-16T00:06:35.604375Z",
     "start_time": "2019-01-16T00:06:35.480909Z"
    },
    "tags": [
     "ignore-output"
    ]
   },
   "outputs": [
    {
     "data": {
      "text/plain": [
       "<matplotlib.axes._subplots.AxesSubplot at 0x7f8994a630b8>"
      ]
     },
     "execution_count": 14,
     "metadata": {},
     "output_type": "execute_result"
    },
    {
     "data": {
      "image/png": "[encoded data removed]",
      "text/plain": [
       "<Figure size 432x288 with 2 Axes>"
      ]
     },
     "metadata": {},
     "output_type": "display_data"
    }
   ],
   "source": [
    "k = 8  # number of features for heatmap\n",
    "\n",
    "correlation_matrix = df_train.corr()\n",
    "columns = correlation_matrix.nlargest(k, 'SalePrice').SalePrice.index\n",
    "\n",
    "covariance_matrix = np.corrcoef(df_train[columns].values.T)\n",
    "sns.heatmap(covariance_matrix)"
   ]
  },
  {
   "cell_type": "code",
   "execution_count": 15,
   "metadata": {
    "ExecuteTime": {
     "end_time": "2019-01-16T00:06:36.018198Z",
     "start_time": "2019-01-16T00:06:35.662892Z"
    },
    "tags": [
     "ignore-input"
    ]
   },
   "outputs": [
    {
     "data": {
      "image/png": "[encoded data removed]",
      "text/plain": [
       "<Figure size 576x432 with 2 Axes>"
      ]
     },
     "metadata": {},
     "output_type": "display_data"
    }
   ],
   "source": [
    "k = 8  # number of features for heatmap\n",
    "correlation_matrix = df_train.corr()\n",
    "grid_kws = {'width_ratios': (.04, .9), 'wspace': 0}\n",
    "\n",
    "with plt.style.context(('plot.mplstyle')):\n",
    "    fig, (cbar_ax, ax) = plt.subplots(figsize=(8, 6), ncols=2, gridspec_kw=grid_kws)\n",
    "    \n",
    "    columns = correlation_matrix.nlargest(k, 'SalePrice').SalePrice.index\n",
    "    covariance_matrix = np.corrcoef(df_train[columns].values.T)\n",
    "    heatmap = sns.heatmap(\n",
    "        covariance_matrix,\n",
    "        cbar=True,\n",
    "        annot=True,\n",
    "        square=True,\n",
    "        fmt='.2f',\n",
    "        annot_kws={'size': 12},\n",
    "        vmin=0.0,\n",
    "        vmax=1.0,\n",
    "        yticklabels=columns.values,\n",
    "        xticklabels=columns.values,\n",
    "        cmap=sns.light_palette(\"#ffc018\", input=\"hex\"),\n",
    "        ax=ax,\n",
    "        cbar_ax=cbar_ax,\n",
    "    );\n",
    "\n",
    "    plt.text(0.125, 1, '\\n' + 'Feature Correlations', family='Source Sans Pro', fontsize=21, fontweight='bold', transform=plt.gcf().transFigure)\n",
    "    plt.text(0.125, 0.94, 'Feature Correlation with Sale Price', family='Source Sans Pro', fontsize=16, transform=plt.gcf().transFigure)\n",
    "    plt.tick_params(labelsize=12)\n",
    "    ax.yaxis.tick_right()\n",
    "    \n",
    "    for tick in ax.get_yticklabels():\n",
    "        tick.set_rotation(0)\n",
    "\n",
    "    # footer\n",
    "    ax.add_line(lines.Line2D([0.125, 0.94], [-0.15, -0.15], linewidth=1, color='0.7', clip_on=False, transform=fig.transFigure))\n",
    "    plt.text(0.125, -0.16, 'ActaMachina.com' + '\\n', color='0.6', family='Source Sans Pro', fontsize=14, horizontalalignment='left', verticalalignment='top', transform=plt.gcf().transFigure)\n",
    "    plt.text(0.94, -0.16, 'Source: Ames Housing Dataset' + '\\n', color='0.6', family='Source Sans Pro', fontsize=14, horizontalalignment='right', verticalalignment='top', transform=plt.gcf().transFigure)"
   ]
  },
  {
   "cell_type": "markdown",
   "metadata": {
    "ExecuteTime": {
     "end_time": "2018-12-15T13:04:50.996428Z",
     "start_time": "2018-12-15T13:04:50.993862Z"
    }
   },
   "source": [
    "From the Heatmap, you can see that the top 7 features most highly correlated with `SalePrice` are:\n",
    "1. `OverallQual`: overall material and finish quality;\n",
    "2. `GrLivArea`: above grade (ground) living area, in square feet;\n",
    "3. `GarageCars`: size of garage, in car capacity;\n",
    "4. `GarageArea`: size of garage, in square feet;\n",
    "5. `TotalBsmtSF`: total square feet of basement area;\n",
    "6. `1stFlrSF`: size of first floor, in square feet; and\n",
    "7. `FullBath`: full bathrooms, above grade."
   ]
  },
  {
   "cell_type": "markdown",
   "metadata": {},
   "source": [
    "## Data Pre-processing"
   ]
  },
  {
   "cell_type": "markdown",
   "metadata": {},
   "source": [
    "The data pre-processing steps here are similar to the ones in the previous post. We want to:\n",
    "- convert all columns to their correct data types, removing columns of `object` data type;\n",
    "- impute (meaningfully fill in) or remove missing data;\n",
    "- one-hot encode categories; and\n",
    "- fix skewness for numerical features."
   ]
  },
  {
   "cell_type": "markdown",
   "metadata": {},
   "source": [
    "### Convert Columns to Correct Data Types"
   ]
  },
  {
   "cell_type": "markdown",
   "metadata": {},
   "source": [
    "Columns of `object` data type are either actual strings or categories in the form of strings. \n",
    "\n",
    "Let's check all the columns of `object` data type and see how many unique values they contain:"
   ]
  },
  {
   "cell_type": "code",
   "execution_count": 16,
   "metadata": {
    "ExecuteTime": {
     "end_time": "2019-01-16T00:06:36.103259Z",
     "start_time": "2019-01-16T00:06:36.080313Z"
    }
   },
   "outputs": [
    {
     "data": {
      "text/plain": [
       "Neighborhood     25\n",
       "Exterior2nd      16\n",
       "Exterior1st      15\n",
       "Condition1        9\n",
       "SaleType          9\n",
       "Condition2        8\n",
       "HouseStyle        8\n",
       "RoofMatl          8\n",
       "Functional        7\n",
       "SaleCondition     6\n",
       "BsmtFinType2      6\n",
       "Heating           6\n",
       "Foundation        6\n",
       "GarageType        6\n",
       "RoofStyle         6\n",
       "BsmtFinType1      6\n",
       "ExterCond         5\n",
       "BldgType          5\n",
       "LotConfig         5\n",
       "MSZoning          5\n",
       "GarageCond        5\n",
       "GarageQual        5\n",
       "HeatingQC         5\n",
       "Electrical        5\n",
       "FireplaceQu       5\n",
       "LotShape          4\n",
       "LandContour       4\n",
       "MiscFeature       4\n",
       "Fence             4\n",
       "BsmtExposure      4\n",
       "BsmtCond          4\n",
       "KitchenQual       4\n",
       "MasVnrType        4\n",
       "ExterQual         4\n",
       "BsmtQual          4\n",
       "GarageFinish      3\n",
       "PavedDrive        3\n",
       "PoolQC            3\n",
       "LandSlope         3\n",
       "Utilities         2\n",
       "CentralAir        2\n",
       "Alley             2\n",
       "Street            2\n",
       "dtype: int64"
      ]
     },
     "execution_count": 16,
     "metadata": {},
     "output_type": "execute_result"
    }
   ],
   "source": [
    "df_train.select_dtypes(include='object').nunique().sort_values(ascending=False)"
   ]
  },
  {
   "cell_type": "markdown",
   "metadata": {},
   "source": [
    "Since `df_train` has a total of 1,460 rows, we can assume that even the column with 25 unique values is a category column. So, we convert all columns of `object` data type into `category`:"
   ]
  },
  {
   "cell_type": "code",
   "execution_count": 17,
   "metadata": {
    "ExecuteTime": {
     "end_time": "2019-01-16T00:06:36.238705Z",
     "start_time": "2019-01-16T00:06:36.159723Z"
    }
   },
   "outputs": [],
   "source": [
    "object_columns = df_train.select_dtypes(include='object').columns\n",
    "\n",
    "for object_column in object_columns:\n",
    "    # ensure same categories across df_train and df_test\n",
    "    categories = set(pd.concat([df_train[object_column], df_test[object_column]]).dropna())\n",
    "    \n",
    "    df_train[object_column] = df_train[object_column].astype(CategoricalDtype(categories=categories))\n",
    "    df_test[object_column] = df_test[object_column].astype(CategoricalDtype(categories=categories))"
   ]
  },
  {
   "cell_type": "markdown",
   "metadata": {},
   "source": [
    "### Impute/Remove Missing Data"
   ]
  },
  {
   "cell_type": "markdown",
   "metadata": {},
   "source": [
    "Let's create a missing data row count for each feature:"
   ]
  },
  {
   "cell_type": "code",
   "execution_count": 18,
   "metadata": {
    "ExecuteTime": {
     "end_time": "2019-01-16T00:06:36.330754Z",
     "start_time": "2019-01-16T00:06:36.314968Z"
    }
   },
   "outputs": [
    {
     "data": {
      "text/html": [
       "<div>\n",
       "<style scoped>\n",
       "    .dataframe tbody tr th:only-of-type {\n",
       "        vertical-align: middle;\n",
       "    }\n",
       "\n",
       "    .dataframe tbody tr th {\n",
       "        vertical-align: top;\n",
       "    }\n",
       "\n",
       "    .dataframe thead th {\n",
       "        text-align: right;\n",
       "    }\n",
       "</style>\n",
       "<table border=\"1\" class=\"dataframe\">\n",
       "  <thead>\n",
       "    <tr style=\"text-align: right;\">\n",
       "      <th></th>\n",
       "      <th>Count</th>\n",
       "      <th>MissingPercentage</th>\n",
       "    </tr>\n",
       "  </thead>\n",
       "  <tbody>\n",
       "    <tr>\n",
       "      <th>PoolQC</th>\n",
       "      <td>1453</td>\n",
       "      <td>99.520548</td>\n",
       "    </tr>\n",
       "    <tr>\n",
       "      <th>MiscFeature</th>\n",
       "      <td>1406</td>\n",
       "      <td>96.301370</td>\n",
       "    </tr>\n",
       "    <tr>\n",
       "      <th>Alley</th>\n",
       "      <td>1369</td>\n",
       "      <td>93.767123</td>\n",
       "    </tr>\n",
       "    <tr>\n",
       "      <th>Fence</th>\n",
       "      <td>1179</td>\n",
       "      <td>80.753425</td>\n",
       "    </tr>\n",
       "    <tr>\n",
       "      <th>FireplaceQu</th>\n",
       "      <td>690</td>\n",
       "      <td>47.260274</td>\n",
       "    </tr>\n",
       "    <tr>\n",
       "      <th>LotFrontage</th>\n",
       "      <td>259</td>\n",
       "      <td>17.739726</td>\n",
       "    </tr>\n",
       "    <tr>\n",
       "      <th>GarageType</th>\n",
       "      <td>81</td>\n",
       "      <td>5.547945</td>\n",
       "    </tr>\n",
       "    <tr>\n",
       "      <th>GarageYrBlt</th>\n",
       "      <td>81</td>\n",
       "      <td>5.547945</td>\n",
       "    </tr>\n",
       "    <tr>\n",
       "      <th>GarageFinish</th>\n",
       "      <td>81</td>\n",
       "      <td>5.547945</td>\n",
       "    </tr>\n",
       "    <tr>\n",
       "      <th>GarageQual</th>\n",
       "      <td>81</td>\n",
       "      <td>5.547945</td>\n",
       "    </tr>\n",
       "    <tr>\n",
       "      <th>GarageCond</th>\n",
       "      <td>81</td>\n",
       "      <td>5.547945</td>\n",
       "    </tr>\n",
       "    <tr>\n",
       "      <th>BsmtExposure</th>\n",
       "      <td>38</td>\n",
       "      <td>2.602740</td>\n",
       "    </tr>\n",
       "    <tr>\n",
       "      <th>BsmtFinType2</th>\n",
       "      <td>38</td>\n",
       "      <td>2.602740</td>\n",
       "    </tr>\n",
       "    <tr>\n",
       "      <th>BsmtFinType1</th>\n",
       "      <td>37</td>\n",
       "      <td>2.534247</td>\n",
       "    </tr>\n",
       "    <tr>\n",
       "      <th>BsmtCond</th>\n",
       "      <td>37</td>\n",
       "      <td>2.534247</td>\n",
       "    </tr>\n",
       "    <tr>\n",
       "      <th>BsmtQual</th>\n",
       "      <td>37</td>\n",
       "      <td>2.534247</td>\n",
       "    </tr>\n",
       "    <tr>\n",
       "      <th>MasVnrArea</th>\n",
       "      <td>8</td>\n",
       "      <td>0.547945</td>\n",
       "    </tr>\n",
       "    <tr>\n",
       "      <th>MasVnrType</th>\n",
       "      <td>8</td>\n",
       "      <td>0.547945</td>\n",
       "    </tr>\n",
       "    <tr>\n",
       "      <th>Electrical</th>\n",
       "      <td>1</td>\n",
       "      <td>0.068493</td>\n",
       "    </tr>\n",
       "  </tbody>\n",
       "</table>\n",
       "</div>"
      ],
      "text/plain": [
       "              Count  MissingPercentage\n",
       "PoolQC         1453          99.520548\n",
       "MiscFeature    1406          96.301370\n",
       "Alley          1369          93.767123\n",
       "Fence          1179          80.753425\n",
       "FireplaceQu     690          47.260274\n",
       "LotFrontage     259          17.739726\n",
       "GarageType       81           5.547945\n",
       "GarageYrBlt      81           5.547945\n",
       "GarageFinish     81           5.547945\n",
       "GarageQual       81           5.547945\n",
       "GarageCond       81           5.547945\n",
       "BsmtExposure     38           2.602740\n",
       "BsmtFinType2     38           2.602740\n",
       "BsmtFinType1     37           2.534247\n",
       "BsmtCond         37           2.534247\n",
       "BsmtQual         37           2.534247\n",
       "MasVnrArea        8           0.547945\n",
       "MasVnrType        8           0.547945\n",
       "Electrical        1           0.068493"
      ]
     },
     "execution_count": 18,
     "metadata": {},
     "output_type": "execute_result"
    }
   ],
   "source": [
    "missing_data = pd.DataFrame({'Count': df_train.isnull().sum(),\n",
    "                             'MissingPercentage': df_train.isnull().sum() / df_train.isnull().count() * 100})\n",
    "\n",
    "missing_data[missing_data.Count > 0].sort_values(by='Count', ascending=False)"
   ]
  },
  {
   "cell_type": "markdown",
   "metadata": {},
   "source": [
    "We can remove features with missing data in more than 1% of its rows. Since we can't have any missing values after this step, if we don't remove the feature, we must remove the entire row instead. The key is to strike a balance between removing too many features and removing too many rows. The 1% figure is arbitrary but seems to be a good balance from observing the data."
   ]
  },
  {
   "cell_type": "code",
   "execution_count": 19,
   "metadata": {
    "ExecuteTime": {
     "end_time": "2019-01-16T00:06:36.410392Z",
     "start_time": "2019-01-16T00:06:36.405020Z"
    }
   },
   "outputs": [],
   "source": [
    "columns_to_remove = list(missing_data[missing_data.MissingPercentage > 1].index)\n",
    "df_train.drop(columns_to_remove, axis=1, inplace=True)\n",
    "df_test.drop(columns_to_remove, axis=1, inplace=True)"
   ]
  },
  {
   "cell_type": "markdown",
   "metadata": {},
   "source": [
    "Now, we delete the remaining rows that contain missing values:"
   ]
  },
  {
   "cell_type": "code",
   "execution_count": 20,
   "metadata": {
    "ExecuteTime": {
     "end_time": "2019-01-16T00:06:36.496909Z",
     "start_time": "2019-01-16T00:06:36.485506Z"
    }
   },
   "outputs": [],
   "source": [
    "df_train.dropna(inplace=True)\n",
    "df_test.dropna(inplace=True)"
   ]
  },
  {
   "cell_type": "markdown",
   "metadata": {},
   "source": [
    "### One-Hot Encoding"
   ]
  },
  {
   "cell_type": "code",
   "execution_count": 21,
   "metadata": {
    "ExecuteTime": {
     "end_time": "2019-01-16T00:06:36.622491Z",
     "start_time": "2019-01-16T00:06:36.569399Z"
    }
   },
   "outputs": [],
   "source": [
    "df_train = pd.get_dummies(df_train)\n",
    "df_test = pd.get_dummies(df_test)"
   ]
  },
  {
   "cell_type": "markdown",
   "metadata": {},
   "source": [
    "### Fix Skewness for Numerical Features"
   ]
  },
  {
   "cell_type": "markdown",
   "metadata": {},
   "source": [
    "Although we briefly covered the need to fix skewness for numerical features in the previous post, let's use Seaborn to plot the target feature, `SalePrice` as a distribution plot:"
   ]
  },
  {
   "cell_type": "code",
   "execution_count": 22,
   "metadata": {
    "ExecuteTime": {
     "end_time": "2019-01-16T00:06:36.838387Z",
     "start_time": "2019-01-16T00:06:36.704070Z"
    },
    "tags": [
     "ignore-output"
    ]
   },
   "outputs": [
    {
     "data": {
      "image/png": "[encoded data removed]",
      "text/plain": [
       "<Figure size 432x288 with 1 Axes>"
      ]
     },
     "metadata": {},
     "output_type": "display_data"
    }
   ],
   "source": [
    "sns.distplot(df_train.SalePrice);"
   ]
  },
  {
   "cell_type": "code",
   "execution_count": 23,
   "metadata": {
    "ExecuteTime": {
     "end_time": "2019-01-16T00:06:37.082773Z",
     "start_time": "2019-01-16T00:06:36.891851Z"
    },
    "tags": [
     "ignore-input"
    ]
   },
   "outputs": [
    {
     "data": {
      "image/png": "[encoded data removed]",
      "text/plain": [
       "<Figure size 576x432 with 1 Axes>"
      ]
     },
     "metadata": {},
     "output_type": "display_data"
    }
   ],
   "source": [
    "with plt.style.context(('plot.mplstyle')):\n",
    "    fig, ax = plt.subplots(figsize=(8, 6))\n",
    "    sns.distplot(\n",
    "        df_train.SalePrice/1000,\n",
    "        color='#ffc018',\n",
    "        kde_kws={'linewidth': 3},\n",
    "    )\n",
    "    \n",
    "    plt.text(0.125, 1, '\\n' + 'Sale Price Distribution', family='Source Sans Pro', fontsize=21, fontweight='bold', transform=plt.gcf().transFigure)\n",
    "    plt.text(0.125, 0.94, 'Houses', family='Source Sans Pro', fontsize=16, transform=plt.gcf().transFigure)\n",
    "    plt.text(0.95, 0.5, '\\n', transform=plt.gcf().transFigure)\n",
    "    plt.text(0.1, 0.5, '\\n', transform=plt.gcf().transFigure)\n",
    "    plt.xlabel('' + 'Sale Price, $k' + '\\n\\n', color='0.6', family='Source Sans Pro', fontsize=16, fontstyle='italic')\n",
    "    plt.tick_params(labelsize=14)\n",
    "    ax.set_xlim(0, 800)\n",
    "    ax.set_yticklabels([])\n",
    "\n",
    "    # footer\n",
    "    ax.add_line(lines.Line2D([0.125, 0.94], [0.01, 0.01], linewidth=1, color='0.7', clip_on=False, transform=fig.transFigure))\n",
    "    plt.text(0.125, 0, 'ActaMachina.com' + '\\n', color='0.6', family='Source Sans Pro', fontsize=14, horizontalalignment='left', verticalalignment='top', transform=plt.gcf().transFigure)\n",
    "    plt.text(0.94, 0, 'Source: Ames Housing Dataset' + '\\n', color='0.6', family='Source Sans Pro', fontsize=14, horizontalalignment='right', verticalalignment='top', transform=plt.gcf().transFigure)"
   ]
  },
  {
   "cell_type": "markdown",
   "metadata": {},
   "source": [
    "Now, we apply Box Cox transform to the features with skew > 0.75:"
   ]
  },
  {
   "cell_type": "code",
   "execution_count": 24,
   "metadata": {
    "ExecuteTime": {
     "end_time": "2019-01-16T00:06:37.306977Z",
     "start_time": "2019-01-16T00:06:37.136976Z"
    }
   },
   "outputs": [
    {
     "name": "stdout",
     "output_type": "stream",
     "text": [
      "There are 199 skewed features to Box Cox transform.\n"
     ]
    }
   ],
   "source": [
    "lambda_ = 0.15\n",
    "\n",
    "skewness = pd.DataFrame({'Skew': df_train.apply(lambda x: skew(x.dropna())).sort_values(ascending=False)})\n",
    "skewed_columns = skewness[abs(skewness) > 0.75].dropna().index\n",
    "\n",
    "print(f\"There are {skewed_columns.shape[0]} skewed features to Box Cox transform.\")\n",
    "\n",
    "for column in skewed_columns:\n",
    "    df_train[column] = boxcox1p(df_train[column], lambda_)\n",
    "\n",
    "    if column != 'SalePrice':\n",
    "        df_test[column] = boxcox1p(df_test[column], lambda_)"
   ]
  },
  {
   "cell_type": "markdown",
   "metadata": {},
   "source": [
    "Let's look at a distribution plot of `SalePrice` again after skew correction: "
   ]
  },
  {
   "cell_type": "code",
   "execution_count": 25,
   "metadata": {
    "ExecuteTime": {
     "end_time": "2019-01-16T00:06:37.492554Z",
     "start_time": "2019-01-16T00:06:37.375803Z"
    },
    "tags": [
     "ignore-output"
    ]
   },
   "outputs": [
    {
     "data": {
      "image/png": "[encoded data removed]",
      "text/plain": [
       "<Figure size 432x288 with 1 Axes>"
      ]
     },
     "metadata": {},
     "output_type": "display_data"
    }
   ],
   "source": [
    "sns.distplot(df_train.SalePrice);"
   ]
  },
  {
   "cell_type": "code",
   "execution_count": 26,
   "metadata": {
    "ExecuteTime": {
     "end_time": "2019-01-16T00:06:37.732934Z",
     "start_time": "2019-01-16T00:06:37.554136Z"
    },
    "tags": [
     "ignore-input"
    ]
   },
   "outputs": [
    {
     "data": {
      "image/png": "[encoded data removed]",
      "text/plain": [
       "<Figure size 576x432 with 1 Axes>"
      ]
     },
     "metadata": {},
     "output_type": "display_data"
    }
   ],
   "source": [
    "with plt.style.context(('plot.mplstyle')):\n",
    "    fig, ax = plt.subplots(figsize=(8, 6))\n",
    "    sns.distplot(\n",
    "        df_train.SalePrice,\n",
    "        color='#ffc018',\n",
    "        kde_kws={'linewidth': 3},\n",
    "    )\n",
    "    \n",
    "    plt.text(0.125, 1, '\\n' + 'Sale Price Distribution After Skew Correction', family='Source Sans Pro', fontsize=21, fontweight='bold', transform=plt.gcf().transFigure)\n",
    "    plt.text(0.125, 0.94, 'Houses', family='Source Sans Pro', fontsize=16, transform=plt.gcf().transFigure)\n",
    "    plt.text(0.95, 0.5, '\\n', transform=plt.gcf().transFigure)\n",
    "    plt.text(0.1, 0.5, '\\n', transform=plt.gcf().transFigure)\n",
    "    plt.xlabel('' + 'Sale Price, relative units' + '\\n\\n', color='0.6', family='Source Sans Pro', fontsize=16, fontstyle='italic')\n",
    "    plt.tick_params(labelsize=14)\n",
    "    ax.set_xlim(20, 45)\n",
    "    ax.set_yticklabels([])\n",
    "\n",
    "    # footer\n",
    "    ax.add_line(lines.Line2D([0.125, 0.94], [0.01, 0.01], linewidth=1, color='0.7', clip_on=False, transform=fig.transFigure))\n",
    "    plt.text(0.125, 0, 'ActaMachina.com' + '\\n', color='0.6', family='Source Sans Pro', fontsize=14, horizontalalignment='left', verticalalignment='top', transform=plt.gcf().transFigure)\n",
    "    plt.text(0.94, 0, 'Source: Ames Housing Dataset' + '\\n', color='0.6', family='Source Sans Pro', fontsize=14, horizontalalignment='right', verticalalignment='top', transform=plt.gcf().transFigure)"
   ]
  },
  {
   "cell_type": "markdown",
   "metadata": {},
   "source": [
    "Now the features are ready for the machine learning regression model!"
   ]
  },
  {
   "cell_type": "markdown",
   "metadata": {},
   "source": [
    "## Model"
   ]
  },
  {
   "cell_type": "markdown",
   "metadata": {},
   "source": [
    "To prepare the data for the models, we separate the features (X) from the target label (y):"
   ]
  },
  {
   "cell_type": "code",
   "execution_count": 27,
   "metadata": {
    "ExecuteTime": {
     "end_time": "2019-01-16T00:06:37.800856Z",
     "start_time": "2019-01-16T00:06:37.795255Z"
    }
   },
   "outputs": [],
   "source": [
    "X = df_train.drop('SalePrice', axis=1)\n",
    "y = df_train.SalePrice.values.ravel()"
   ]
  },
  {
   "cell_type": "markdown",
   "metadata": {},
   "source": [
    "First, we'll go through a simple regression model that is similar to the classification model in the previous post. Then, we'll delve into a more complicated ensemble model."
   ]
  },
  {
   "cell_type": "markdown",
   "metadata": {},
   "source": [
    "### Simple Model"
   ]
  },
  {
   "cell_type": "markdown",
   "metadata": {},
   "source": [
    "In the previous post, we used `train_test_split` to split `X` and `y` into a train/test set before fitting and scoring the model. We can get a more reliable score by using the `cross_val_score` function to do this multiple times (on a different train/test split each time) and take the average. This is called $k$-fold cross-validation, where $k$ is the number of train/test splits. The value of $k$ can range from 2 (a single train/test split) to $N$, the total number of rows in the data set. The extreme case where $k = N$ is also called leave-one-out cross-validation."
   ]
  },
  {
   "cell_type": "code",
   "execution_count": 28,
   "metadata": {
    "ExecuteTime": {
     "end_time": "2019-01-16T00:06:37.913916Z",
     "start_time": "2019-01-16T00:06:37.908389Z"
    },
    "tags": [
     "ignore-input"
    ]
   },
   "outputs": [
    {
     "data": {
      "image/png": "[encoded data removed]",
      "text/plain": [
       "<IPython.core.display.Image object>"
      ]
     },
     "execution_count": 28,
     "metadata": {},
     "output_type": "execute_result"
    }
   ],
   "source": [
    "Image('figures/03-k-fold-cross-validation.png')"
   ]
  },
  {
   "cell_type": "markdown",
   "metadata": {},
   "source": [
    "Here, we use the 5-fold cross-validation (where $k = 5$) to evaluate the model:"
   ]
  },
  {
   "cell_type": "code",
   "execution_count": 29,
   "metadata": {
    "ExecuteTime": {
     "end_time": "2019-01-16T00:06:38.629282Z",
     "start_time": "2019-01-16T00:06:37.990457Z"
    }
   },
   "outputs": [
    {
     "name": "stdout",
     "output_type": "stream",
     "text": [
      "Score: 0.85688 (0.02040)\n"
     ]
    }
   ],
   "source": [
    "model = RandomForestRegressor()\n",
    "scores = cross_val_score(model, X, y, cv=5, scoring='r2')\n",
    "print('Score: {:.5f} ({:.5f})'.format(scores.mean(), scores.std()))"
   ]
  },
  {
   "cell_type": "markdown",
   "metadata": {},
   "source": [
    "Now let's train the model using all of `X` and `y` and then use the trained model to make predictions on `df_test`:"
   ]
  },
  {
   "cell_type": "code",
   "execution_count": 30,
   "metadata": {
    "ExecuteTime": {
     "end_time": "2019-01-16T00:06:42.774999Z",
     "start_time": "2019-01-16T00:06:42.598196Z"
    }
   },
   "outputs": [
    {
     "data": {
      "text/plain": [
       "array([32.0262467 , 32.96734321, 33.97662815, ..., 33.25564396,\n",
       "       31.821167  , 35.92025014])"
      ]
     },
     "execution_count": 30,
     "metadata": {},
     "output_type": "execute_result"
    }
   ],
   "source": [
    "model = RandomForestRegressor()\n",
    "model.fit(X, y)\n",
    "pred = model.predict(df_test)\n",
    "pred"
   ]
  },
  {
   "cell_type": "markdown",
   "metadata": {},
   "source": [
    "Wait, these predicted sale prices don't look quite right. Since we applied Box-Cox transform to help reshape `SalePrice`, we need to undo it by calling `inv_boxcox`:"
   ]
  },
  {
   "cell_type": "code",
   "execution_count": 31,
   "metadata": {
    "ExecuteTime": {
     "end_time": "2019-01-16T00:06:43.966855Z",
     "start_time": "2019-01-16T00:06:43.953945Z"
    }
   },
   "outputs": [
    {
     "data": {
      "text/plain": [
       "array([123448.15398991, 144897.80806527, 171343.55636578, ...,\n",
       "       152070.92600908, 119151.13227291, 233946.41203722])"
      ]
     },
     "execution_count": 31,
     "metadata": {},
     "output_type": "execute_result"
    }
   ],
   "source": [
    "inv_boxcox(pred, lambda_)"
   ]
  },
  {
   "cell_type": "code",
   "execution_count": 32,
   "metadata": {
    "ExecuteTime": {
     "end_time": "2019-01-16T00:06:44.532629Z",
     "start_time": "2019-01-16T00:06:44.484113Z"
    }
   },
   "outputs": [
    {
     "data": {
      "text/html": [
       "<div>\n",
       "<style scoped>\n",
       "    .dataframe tbody tr th:only-of-type {\n",
       "        vertical-align: middle;\n",
       "    }\n",
       "\n",
       "    .dataframe tbody tr th {\n",
       "        vertical-align: top;\n",
       "    }\n",
       "\n",
       "    .dataframe thead th {\n",
       "        text-align: right;\n",
       "    }\n",
       "</style>\n",
       "<table border=\"1\" class=\"dataframe\">\n",
       "  <thead>\n",
       "    <tr style=\"text-align: right;\">\n",
       "      <th></th>\n",
       "      <th>MSSubClass</th>\n",
       "      <th>MSZoning</th>\n",
       "      <th>LotFrontage</th>\n",
       "      <th>LotArea</th>\n",
       "      <th>Street</th>\n",
       "      <th>Alley</th>\n",
       "      <th>LotShape</th>\n",
       "      <th>LandContour</th>\n",
       "      <th>Utilities</th>\n",
       "      <th>LotConfig</th>\n",
       "      <th>...</th>\n",
       "      <th>ScreenPorch</th>\n",
       "      <th>PoolArea</th>\n",
       "      <th>PoolQC</th>\n",
       "      <th>Fence</th>\n",
       "      <th>MiscFeature</th>\n",
       "      <th>MiscVal</th>\n",
       "      <th>MoSold</th>\n",
       "      <th>YrSold</th>\n",
       "      <th>SaleType</th>\n",
       "      <th>SaleCondition</th>\n",
       "    </tr>\n",
       "    <tr>\n",
       "      <th>Id</th>\n",
       "      <th></th>\n",
       "      <th></th>\n",
       "      <th></th>\n",
       "      <th></th>\n",
       "      <th></th>\n",
       "      <th></th>\n",
       "      <th></th>\n",
       "      <th></th>\n",
       "      <th></th>\n",
       "      <th></th>\n",
       "      <th></th>\n",
       "      <th></th>\n",
       "      <th></th>\n",
       "      <th></th>\n",
       "      <th></th>\n",
       "      <th></th>\n",
       "      <th></th>\n",
       "      <th></th>\n",
       "      <th></th>\n",
       "      <th></th>\n",
       "      <th></th>\n",
       "    </tr>\n",
       "  </thead>\n",
       "  <tbody>\n",
       "    <tr>\n",
       "      <th>1461</th>\n",
       "      <td>20</td>\n",
       "      <td>RH</td>\n",
       "      <td>80.0</td>\n",
       "      <td>11622</td>\n",
       "      <td>Pave</td>\n",
       "      <td>NaN</td>\n",
       "      <td>Reg</td>\n",
       "      <td>Lvl</td>\n",
       "      <td>AllPub</td>\n",
       "      <td>Inside</td>\n",
       "      <td>...</td>\n",
       "      <td>120</td>\n",
       "      <td>0</td>\n",
       "      <td>NaN</td>\n",
       "      <td>MnPrv</td>\n",
       "      <td>NaN</td>\n",
       "      <td>0</td>\n",
       "      <td>6</td>\n",
       "      <td>2010</td>\n",
       "      <td>WD</td>\n",
       "      <td>Normal</td>\n",
       "    </tr>\n",
       "    <tr>\n",
       "      <th>1462</th>\n",
       "      <td>20</td>\n",
       "      <td>RL</td>\n",
       "      <td>81.0</td>\n",
       "      <td>14267</td>\n",
       "      <td>Pave</td>\n",
       "      <td>NaN</td>\n",
       "      <td>IR1</td>\n",
       "      <td>Lvl</td>\n",
       "      <td>AllPub</td>\n",
       "      <td>Corner</td>\n",
       "      <td>...</td>\n",
       "      <td>0</td>\n",
       "      <td>0</td>\n",
       "      <td>NaN</td>\n",
       "      <td>NaN</td>\n",
       "      <td>Gar2</td>\n",
       "      <td>12500</td>\n",
       "      <td>6</td>\n",
       "      <td>2010</td>\n",
       "      <td>WD</td>\n",
       "      <td>Normal</td>\n",
       "    </tr>\n",
       "    <tr>\n",
       "      <th>1463</th>\n",
       "      <td>60</td>\n",
       "      <td>RL</td>\n",
       "      <td>74.0</td>\n",
       "      <td>13830</td>\n",
       "      <td>Pave</td>\n",
       "      <td>NaN</td>\n",
       "      <td>IR1</td>\n",
       "      <td>Lvl</td>\n",
       "      <td>AllPub</td>\n",
       "      <td>Inside</td>\n",
       "      <td>...</td>\n",
       "      <td>0</td>\n",
       "      <td>0</td>\n",
       "      <td>NaN</td>\n",
       "      <td>MnPrv</td>\n",
       "      <td>NaN</td>\n",
       "      <td>0</td>\n",
       "      <td>3</td>\n",
       "      <td>2010</td>\n",
       "      <td>WD</td>\n",
       "      <td>Normal</td>\n",
       "    </tr>\n",
       "    <tr>\n",
       "      <th>1464</th>\n",
       "      <td>60</td>\n",
       "      <td>RL</td>\n",
       "      <td>78.0</td>\n",
       "      <td>9978</td>\n",
       "      <td>Pave</td>\n",
       "      <td>NaN</td>\n",
       "      <td>IR1</td>\n",
       "      <td>Lvl</td>\n",
       "      <td>AllPub</td>\n",
       "      <td>Inside</td>\n",
       "      <td>...</td>\n",
       "      <td>0</td>\n",
       "      <td>0</td>\n",
       "      <td>NaN</td>\n",
       "      <td>NaN</td>\n",
       "      <td>NaN</td>\n",
       "      <td>0</td>\n",
       "      <td>6</td>\n",
       "      <td>2010</td>\n",
       "      <td>WD</td>\n",
       "      <td>Normal</td>\n",
       "    </tr>\n",
       "    <tr>\n",
       "      <th>1465</th>\n",
       "      <td>120</td>\n",
       "      <td>RL</td>\n",
       "      <td>43.0</td>\n",
       "      <td>5005</td>\n",
       "      <td>Pave</td>\n",
       "      <td>NaN</td>\n",
       "      <td>IR1</td>\n",
       "      <td>HLS</td>\n",
       "      <td>AllPub</td>\n",
       "      <td>Inside</td>\n",
       "      <td>...</td>\n",
       "      <td>144</td>\n",
       "      <td>0</td>\n",
       "      <td>NaN</td>\n",
       "      <td>NaN</td>\n",
       "      <td>NaN</td>\n",
       "      <td>0</td>\n",
       "      <td>1</td>\n",
       "      <td>2010</td>\n",
       "      <td>WD</td>\n",
       "      <td>Normal</td>\n",
       "    </tr>\n",
       "  </tbody>\n",
       "</table>\n",
       "<p>5 rows × 79 columns</p>\n",
       "</div>"
      ],
      "text/plain": [
       "      MSSubClass MSZoning  LotFrontage  LotArea Street Alley LotShape  \\\n",
       "Id                                                                      \n",
       "1461          20       RH         80.0    11622   Pave   NaN      Reg   \n",
       "1462          20       RL         81.0    14267   Pave   NaN      IR1   \n",
       "1463          60       RL         74.0    13830   Pave   NaN      IR1   \n",
       "1464          60       RL         78.0     9978   Pave   NaN      IR1   \n",
       "1465         120       RL         43.0     5005   Pave   NaN      IR1   \n",
       "\n",
       "     LandContour Utilities LotConfig      ...       ScreenPorch PoolArea  \\\n",
       "Id                                        ...                              \n",
       "1461         Lvl    AllPub    Inside      ...               120        0   \n",
       "1462         Lvl    AllPub    Corner      ...                 0        0   \n",
       "1463         Lvl    AllPub    Inside      ...                 0        0   \n",
       "1464         Lvl    AllPub    Inside      ...                 0        0   \n",
       "1465         HLS    AllPub    Inside      ...               144        0   \n",
       "\n",
       "     PoolQC  Fence MiscFeature MiscVal  MoSold  YrSold  SaleType  \\\n",
       "Id                                                                 \n",
       "1461    NaN  MnPrv         NaN       0       6    2010        WD   \n",
       "1462    NaN    NaN        Gar2   12500       6    2010        WD   \n",
       "1463    NaN  MnPrv         NaN       0       3    2010        WD   \n",
       "1464    NaN    NaN         NaN       0       6    2010        WD   \n",
       "1465    NaN    NaN         NaN       0       1    2010        WD   \n",
       "\n",
       "      SaleCondition  \n",
       "Id                   \n",
       "1461         Normal  \n",
       "1462         Normal  \n",
       "1463         Normal  \n",
       "1464         Normal  \n",
       "1465         Normal  \n",
       "\n",
       "[5 rows x 79 columns]"
      ]
     },
     "execution_count": 32,
     "metadata": {},
     "output_type": "execute_result"
    }
   ],
   "source": [
    "pd.read_csv('data/house_prices/test.csv', index_col='Id').head()"
   ]
  },
  {
   "cell_type": "markdown",
   "metadata": {},
   "source": [
    "So, the first 5 houses of `df_test` (above) have predicted `SalePrice` of: "
   ]
  },
  {
   "cell_type": "code",
   "execution_count": 33,
   "metadata": {
    "ExecuteTime": {
     "end_time": "2019-01-16T00:06:46.990875Z",
     "start_time": "2019-01-16T00:06:46.985824Z"
    }
   },
   "outputs": [
    {
     "data": {
      "text/plain": [
       "array([123448.15398991, 144897.80806527, 171343.55636578, 186487.2081506 ,\n",
       "       206409.9966901 ])"
      ]
     },
     "execution_count": 33,
     "metadata": {},
     "output_type": "execute_result"
    }
   ],
   "source": [
    "inv_boxcox(pred[:5], lambda_)"
   ]
  },
  {
   "cell_type": "markdown",
   "metadata": {},
   "source": [
    "### Ensemble Model"
   ]
  },
  {
   "cell_type": "markdown",
   "metadata": {},
   "source": [
    "An ensemble model is one that combines the strengths of several simpler base models. There are three common types of ensemble models:\n",
    "- **boosting:** uses multiple, identical models that are trained in sequence, with each subsequent model trained  emphasising the mis-classifications of the previous model;\n",
    "- **bootstrap aggregation (or bagging):** uses multiple, identical models that are trained on randomly drawn subsets of the training set; and\n",
    "- **stacking:** uses different models to train the data."
   ]
  },
  {
   "cell_type": "markdown",
   "metadata": {},
   "source": [
    "Actually, the `RandomForestClassifier` and `RandomForestRegressor` which you've already been using are also ensemble models since they combine multiple decision trees using majority voting, with each decision tree generated using a random subset of features."
   ]
  },
  {
   "cell_type": "markdown",
   "metadata": {
    "ExecuteTime": {
     "end_time": "2018-09-26T16:26:35.307873Z",
     "start_time": "2018-09-26T16:26:35.264123Z"
    }
   },
   "source": [
    "Here is an example of stacking. We create an instance of a `StackedRegressor` that combines the `Lasso`, `RandomForestRegressor` and `Ridge` regression models for a better prediction:"
   ]
  },
  {
   "cell_type": "code",
   "execution_count": 34,
   "metadata": {
    "ExecuteTime": {
     "end_time": "2019-01-16T00:06:51.234357Z",
     "start_time": "2019-01-16T00:06:50.248123Z"
    }
   },
   "outputs": [
    {
     "name": "stdout",
     "output_type": "stream",
     "text": [
      "Score: 0.86763 (0.02538)\n"
     ]
    }
   ],
   "source": [
    "class StackedRegressor(BaseEstimator, RegressorMixin):\n",
    "    def __init__(self, models):\n",
    "        self.models = models\n",
    "\n",
    "    def fit(self, X, y):\n",
    "        self.models_ = [clone(model) for model in self.models]\n",
    "\n",
    "        for model in self.models_:\n",
    "            model.fit(X, y)\n",
    "\n",
    "        return self\n",
    "\n",
    "    def predict(self, X):\n",
    "        predictions = np.column_stack([model.predict(X) for model in self.models_])\n",
    "        return np.mean(predictions, axis=1)\n",
    "    \n",
    "stacked_model = StackedRegressor([\n",
    "    Lasso(),\n",
    "    RandomForestRegressor(),\n",
    "    Ridge(),\n",
    "])\n",
    "\n",
    "scores = cross_val_score(stacked_model, X, y, cv=5, scoring='r2')\n",
    "print('Score: {:.5f} ({:.5f})'.format(scores.mean(), scores.std()))"
   ]
  },
  {
   "cell_type": "markdown",
   "metadata": {
    "ExecuteTime": {
     "end_time": "2018-12-30T16:54:49.236693Z",
     "start_time": "2018-12-30T16:54:49.227456Z"
    }
   },
   "source": [
    "We see that the `StackedRegressor` (86.763%) performed better than the `RandomForestRegressor` by itself (85.688%)."
   ]
  },
  {
   "cell_type": "markdown",
   "metadata": {},
   "source": [
    "## Summary and Next Steps"
   ]
  },
  {
   "cell_type": "markdown",
   "metadata": {},
   "source": [
    "In this post, you've learnt how to:\n",
    "- present data using the Seaborn data visualisation package;\n",
    "- train and evaluate a regression model; and\n",
    "- combine multiple models for a better result.\n",
    "\n",
    "Now you're familar with both types of Supervised Learning: classification (predicting a class) and regression (predicting a quantity). There are two other broad types of Machine Learning: (i) Unsupervised Learning is when you are only given inputs and tasked to find interesting attributes of the dataset, such as clusters or outliers; and (ii) Reinforcement Learning is where an agent interacts with an environment and changes its action based on rewards. These will be explored in future posts. Stay tuned!"
   ]
  },
  {
   "cell_type": "markdown",
   "metadata": {},
   "source": [
    "## Acknowledgements"
   ]
  },
  {
   "cell_type": "markdown",
   "metadata": {
    "ExecuteTime": {
     "end_time": "2018-12-11T00:29:36.339868Z",
     "start_time": "2018-12-11T00:29:36.337620Z"
    }
   },
   "source": [
    "This post has been inspired by posts from:\n",
    "\n",
    "- [Kaggle House Prices: Advanced Regression Techniques](https://www.kaggle.com/c/house-prices-advanced-regression-techniques)\n",
    "- [Comprehensive Data Exploration with Python by Pedro Marcelino](https://www.kaggle.com/pmarcelino/comprehensive-data-exploration-with-python)\n",
    "- [Stacked Regressions: Top 4% on LeaderBoard by Serigne](https://www.kaggle.com/serigne/stacked-regressions-top-4-on-leaderboard)"
   ]
  },
  {
   "cell_type": "markdown",
   "metadata": {
    "tags": [
     "ignore"
    ]
   },
   "source": [
    "## Notes"
   ]
  },
  {
   "cell_type": "markdown",
   "metadata": {
    "tags": [
     "ignore"
    ]
   },
   "source": [
    "| Feature  | Description |\n",
    "| -------- | ----------- |\n",
    "| SalePrice | The property's sale price in dollars. |\n",
    "| MSSubClass | The building class. |\n",
    "| MSZoning | The general zoning classification. |\n",
    "| LotFrontage | Linear feet of street connected to property. |\n",
    "| LotArea | Lot size in square feet. |\n",
    "| Street | Type of road access. |\n",
    "| Alley | Type of alley access. |\n",
    "| LotShape | General shape of property. |\n",
    "| LandContour | Flatness of the property. |\n",
    "| Utilities | Type of utilities available. |\n",
    "| LotConfig | Lot configuration. |\n",
    "| LandSlope | Slope of property. |\n",
    "| Neighborhood | Physical locations within Ames city limits. |\n",
    "| Condition1 | Proximity to main road or railroad. |\n",
    "| Condition2 | Proximity to main road or railroad (if a second is present). |\n",
    "| BldgType | Type of dwelling. |\n",
    "| HouseStyle | Style of dwelling. |\n",
    "| OverallQual | Overall material and finish quality. |\n",
    "| OverallCond | Overall condition rating. |\n",
    "| YearBuilt | Original construction date. |\n",
    "| YearRemodAdd | Remodel date. |\n",
    "| RoofStyle | Type of roof. |\n",
    "| RoofMatl | Roof material. |\n",
    "| Exterior1st | Exterior covering on house. |\n",
    "| Exterior2nd | Exterior covering on house (if more than one material). |\n",
    "| MasVnrType | Masonry veneer type. |\n",
    "| MasVnrArea | Masonry veneer area in square feet. |\n",
    "| ExterQual | Exterior material quality. |\n",
    "| ExterCond | Present condition of the material on the exterior. |\n",
    "| Foundation | Type of foundation. |\n",
    "| BsmtQual | Height of the basement. |\n",
    "| BsmtCond | General condition of the basement. |\n",
    "| BsmtExposure | Walkout or garden level basement walls. |\n",
    "| BsmtFinType1 | Quality of basement finished area. |\n",
    "| BsmtFinSF1 | Type 1 finished square feet. |\n",
    "| BsmtFinType2 | Quality of second finished area (if present). |\n",
    "| BsmtFinSF2 | Type 2 finished square feet. |\n",
    "| BsmtUnfSF | Unfinished square feet of basement area. |\n",
    "| TotalBsmtSF | Total square feet of basement area. |\n",
    "| Heating | Type of heating. |\n",
    "| HeatingQC | Heating quality and condition. |\n",
    "| CentralAir | Central air conditioning. |\n",
    "| Electrical | Electrical system. |\n",
    "| 1stFlrSF | First Floor square feet. |\n",
    "| 2ndFlrSF | Second floor square feet. |\n",
    "| LowQualFinSF | Low quality finished square feet (all floors). |\n",
    "| GrLivArea | Above grade (ground) living area square feet. |\n",
    "| BsmtFullBath | Basement full bathrooms. |\n",
    "| BsmtHalfBath | Basement half bathrooms. |\n",
    "| FullBath | Full bathrooms above grade. |\n",
    "| HalfBath | Half baths above grade. |\n",
    "| Bedroom | Number of bedrooms above basement level. |\n",
    "| Kitchen | Number of kitchens. |\n",
    "| KitchenQual | Kitchen quality. |\n",
    "| TotRmsAbvGrd | Total rooms above grade (does not include bathrooms). |\n",
    "| Functional | Home functionality rating. |\n",
    "| Fireplaces | Number of fireplaces. |\n",
    "| FireplaceQu | Fireplace quality. |\n",
    "| GarageType | Garage location. |\n",
    "| GarageYrBlt | Year garage was built. |\n",
    "| GarageFinish | Interior finish of the garage. |\n",
    "| GarageCars | Size of garage in car capacity. |\n",
    "| GarageArea | Size of garage in square feet. |\n",
    "| GarageQual | Garage quality. |\n",
    "| GarageCond | Garage condition. |\n",
    "| PavedDrive | Paved driveway. |\n",
    "| WoodDeckSF | Wood deck area in square feet. |\n",
    "| OpenPorchSF | Open porch area in square feet. |\n",
    "| EnclosedPorch | Enclosed porch area in square feet. |\n",
    "| 3SsnPorch | Three season porch area in square feet. |\n",
    "| ScreenPorch | Screen porch area in square feet. |\n",
    "| PoolArea | Pool area in square feet. |\n",
    "| PoolQC | Pool quality. |\n",
    "| Fence | Fence quality. |\n",
    "| MiscFeature | Miscellaneous feature not covered in other categories. |\n",
    "| MiscVal | $Value of miscellaneous feature. |\n",
    "| MoSold | Month Sold. |\n",
    "| YrSold | Year Sold. |\n",
    "| SaleType | Type of sale. |\n",
    "| SaleCondition | Condition of sale. |"
   ]
  }
 ],
 "metadata": {
  "celltoolbar": "Tags",
  "kernelspec": {
   "display_name": "Python 3",
   "language": "python",
   "name": "python3"
  },
  "language_info": {
   "codemirror_mode": {
    "name": "ipython",
    "version": 3
   },
   "file_extension": ".py",
   "mimetype": "text/x-python",
   "name": "python",
   "nbconvert_exporter": "python",
   "pygments_lexer": "ipython3",
   "version": "3.6.5"
  },
  "varInspector": {
   "cols": {
    "lenName": 16,
    "lenType": 16,
    "lenVar": 40
   },
   "kernels_config": {
    "python": {
     "delete_cmd_postfix": "",
     "delete_cmd_prefix": "del ",
     "library": "var_list.py",
     "varRefreshCmd": "print(var_dic_list())"
    },
    "r": {
     "delete_cmd_postfix": ") ",
     "delete_cmd_prefix": "rm(",
     "library": "var_list.r",
     "varRefreshCmd": "cat(var_dic_list()) "
    }
   },
   "types_to_exclude": [
    "module",
    "function",
    "builtin_function_or_method",
    "instance",
    "_Feature"
   ],
   "window_display": false
  }
 },
 "nbformat": 4,
 "nbformat_minor": 2
}
