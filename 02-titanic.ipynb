{
 "cells": [
  {
   "cell_type": "markdown",
   "metadata": {
    "tags": [
     "ignore"
    ]
   },
   "source": [
    "# Iceberg, right ahead!"
   ]
  },
  {
   "cell_type": "markdown",
   "metadata": {
    "tags": [
     "ignore"
    ]
   },
   "source": [
    "*Introducing Machine Learning classification using the RMS Titanic passenger manifest.*"
   ]
  },
  {
   "cell_type": "markdown",
   "metadata": {},
   "source": [
    "This post introduces the exciting topic of Machine Learning. We will use the passenger manifest of the ill-fated RMS Titanic to predict whether a given person would survive the disaster. The passenger manifest includes information about the class, sex, age etc. of each passenger.\n",
    "\n",
    "In this post, you'll learn how to:\n",
    "- engineer new features;\n",
    "- impute missing data;\n",
    "- one-hot encode categorical features; and\n",
    "- train and evaluate a model.\n",
    "\n",
    "By the end, you'll learn how to predict how likely Ms. Dorothy Winifred Gibson was to survive the RMS Titanic disaster:"
   ]
  },
  {
   "cell_type": "code",
   "execution_count": 15,
   "metadata": {
    "ExecuteTime": {
     "end_time": "2018-11-29T15:37:26.996770Z",
     "start_time": "2018-11-29T15:37:26.983495Z"
    },
    "tags": [
     "ignore-input"
    ]
   },
   "outputs": [
    {
     "data": {
      "text/html": [
       "<div>\n",
       "<style scoped>\n",
       "    .dataframe tbody tr th:only-of-type {\n",
       "        vertical-align: middle;\n",
       "    }\n",
       "\n",
       "    .dataframe tbody tr th {\n",
       "        vertical-align: top;\n",
       "    }\n",
       "\n",
       "    .dataframe thead th {\n",
       "        text-align: right;\n",
       "    }\n",
       "</style>\n",
       "<table border=\"1\" class=\"dataframe\">\n",
       "  <thead>\n",
       "    <tr style=\"text-align: right;\">\n",
       "      <th></th>\n",
       "      <th>Pclass</th>\n",
       "      <th>Name</th>\n",
       "      <th>Sex</th>\n",
       "      <th>Age</th>\n",
       "      <th>SibSp</th>\n",
       "      <th>Parch</th>\n",
       "      <th>Ticket</th>\n",
       "      <th>Fare</th>\n",
       "      <th>Cabin</th>\n",
       "      <th>Embarked</th>\n",
       "    </tr>\n",
       "    <tr>\n",
       "      <th>PassengerId</th>\n",
       "      <th></th>\n",
       "      <th></th>\n",
       "      <th></th>\n",
       "      <th></th>\n",
       "      <th></th>\n",
       "      <th></th>\n",
       "      <th></th>\n",
       "      <th></th>\n",
       "      <th></th>\n",
       "      <th></th>\n",
       "    </tr>\n",
       "  </thead>\n",
       "  <tbody>\n",
       "    <tr>\n",
       "      <th>1294</th>\n",
       "      <td>1</td>\n",
       "      <td>Gibson, Miss. Dorothy Winifred</td>\n",
       "      <td>female</td>\n",
       "      <td>22</td>\n",
       "      <td>0</td>\n",
       "      <td>1</td>\n",
       "      <td>112378</td>\n",
       "      <td>59.4</td>\n",
       "      <td>NaN</td>\n",
       "      <td>C</td>\n",
       "    </tr>\n",
       "  </tbody>\n",
       "</table>\n",
       "</div>"
      ],
      "text/plain": [
       "             Pclass                            Name     Sex  Age  SibSp  \\\n",
       "PassengerId                                                               \n",
       "1294              1  Gibson, Miss. Dorothy Winifred  female   22      0   \n",
       "\n",
       "             Parch  Ticket  Fare  Cabin Embarked  \n",
       "PassengerId                                       \n",
       "1294             1  112378  59.4    NaN        C  "
      ]
     },
     "execution_count": 15,
     "metadata": {},
     "output_type": "execute_result"
    }
   ],
   "source": [
    "df = pd.read_csv('data/titanic/gibson.csv', index_col='PassengerId')\n",
    "df.head()"
   ]
  },
  {
   "cell_type": "markdown",
   "metadata": {},
   "source": [
    "This [notebook is available on GitHub](https://github.com/ActaMachina/notebooks/blob/master/02-titanic.ipynb) and the [data is hosted on Amazon CloudFront](/data/02-titanic.zip)."
   ]
  },
  {
   "cell_type": "markdown",
   "metadata": {
    "tags": [
     "ignore"
    ]
   },
   "source": [
    "## Preamble"
   ]
  },
  {
   "cell_type": "code",
   "execution_count": 6,
   "metadata": {
    "ExecuteTime": {
     "end_time": "2019-01-03T04:54:01.659816Z",
     "start_time": "2019-01-03T04:54:01.657269Z"
    },
    "tags": [
     "ignore"
    ]
   },
   "outputs": [],
   "source": [
    "from collections import defaultdict\n",
    "from IPython.display import Image\n",
    "from matplotlib import lines\n",
    "from sklearn.tree import export_graphviz\n",
    "\n",
    "import matplotlib.pyplot as plt\n",
    "import warnings\n",
    "warnings.filterwarnings('ignore', category=DeprecationWarning)\n",
    "warnings.filterwarnings('ignore', category=RuntimeWarning)\n",
    "\n",
    "# pd.set_option('display.max_rows', 5)"
   ]
  },
  {
   "cell_type": "markdown",
   "metadata": {},
   "source": [
    "## Machine Learning Workflow"
   ]
  },
  {
   "cell_type": "markdown",
   "metadata": {},
   "source": [
    "Let's start by importing a few Python packages. We'll be needing: (i) `scipy` for its library of statistical functions, (ii) `sklearn`, which provides a comprehensive suite of machine learning models and utility functions; and (iii) `pandas`, which was introduced in the previous post."
   ]
  },
  {
   "cell_type": "code",
   "execution_count": 7,
   "metadata": {
    "ExecuteTime": {
     "end_time": "2019-01-03T04:54:03.657915Z",
     "start_time": "2019-01-03T04:54:03.569692Z"
    }
   },
   "outputs": [],
   "source": [
    "from scipy.special import boxcox1p\n",
    "from scipy.stats import skew, skewnorm\n",
    "\n",
    "from sklearn.ensemble import RandomForestClassifier\n",
    "from sklearn.model_selection import train_test_split\n",
    "\n",
    "import pandas as pd"
   ]
  },
  {
   "cell_type": "markdown",
   "metadata": {},
   "source": [
    "## Load Data"
   ]
  },
  {
   "cell_type": "markdown",
   "metadata": {},
   "source": [
    "Let's load the data in `manifest.csv` into a Pandas DataFrame with `PassengerId` as index:"
   ]
  },
  {
   "cell_type": "code",
   "execution_count": 8,
   "metadata": {
    "ExecuteTime": {
     "end_time": "2019-01-03T04:54:05.048140Z",
     "start_time": "2019-01-03T04:54:05.019151Z"
    },
    "scrolled": true
   },
   "outputs": [
    {
     "data": {
      "text/html": [
       "<div>\n",
       "<style scoped>\n",
       "    .dataframe tbody tr th:only-of-type {\n",
       "        vertical-align: middle;\n",
       "    }\n",
       "\n",
       "    .dataframe tbody tr th {\n",
       "        vertical-align: top;\n",
       "    }\n",
       "\n",
       "    .dataframe thead th {\n",
       "        text-align: right;\n",
       "    }\n",
       "</style>\n",
       "<table border=\"1\" class=\"dataframe\">\n",
       "  <thead>\n",
       "    <tr style=\"text-align: right;\">\n",
       "      <th></th>\n",
       "      <th>Survived</th>\n",
       "      <th>Pclass</th>\n",
       "      <th>Name</th>\n",
       "      <th>Sex</th>\n",
       "      <th>Age</th>\n",
       "      <th>SibSp</th>\n",
       "      <th>Parch</th>\n",
       "      <th>Ticket</th>\n",
       "      <th>Fare</th>\n",
       "      <th>Cabin</th>\n",
       "      <th>Embarked</th>\n",
       "    </tr>\n",
       "    <tr>\n",
       "      <th>PassengerId</th>\n",
       "      <th></th>\n",
       "      <th></th>\n",
       "      <th></th>\n",
       "      <th></th>\n",
       "      <th></th>\n",
       "      <th></th>\n",
       "      <th></th>\n",
       "      <th></th>\n",
       "      <th></th>\n",
       "      <th></th>\n",
       "      <th></th>\n",
       "    </tr>\n",
       "  </thead>\n",
       "  <tbody>\n",
       "    <tr>\n",
       "      <th>1</th>\n",
       "      <td>0</td>\n",
       "      <td>3</td>\n",
       "      <td>Braund, Mr. Owen Harris</td>\n",
       "      <td>male</td>\n",
       "      <td>22.0</td>\n",
       "      <td>1</td>\n",
       "      <td>0</td>\n",
       "      <td>A/5 21171</td>\n",
       "      <td>7.2500</td>\n",
       "      <td>NaN</td>\n",
       "      <td>S</td>\n",
       "    </tr>\n",
       "    <tr>\n",
       "      <th>2</th>\n",
       "      <td>1</td>\n",
       "      <td>1</td>\n",
       "      <td>Cumings, Mrs. John Bradley (Florence Briggs Th...</td>\n",
       "      <td>female</td>\n",
       "      <td>38.0</td>\n",
       "      <td>1</td>\n",
       "      <td>0</td>\n",
       "      <td>PC 17599</td>\n",
       "      <td>71.2833</td>\n",
       "      <td>C85</td>\n",
       "      <td>C</td>\n",
       "    </tr>\n",
       "    <tr>\n",
       "      <th>3</th>\n",
       "      <td>1</td>\n",
       "      <td>3</td>\n",
       "      <td>Heikkinen, Miss. Laina</td>\n",
       "      <td>female</td>\n",
       "      <td>26.0</td>\n",
       "      <td>0</td>\n",
       "      <td>0</td>\n",
       "      <td>STON/O2. 3101282</td>\n",
       "      <td>7.9250</td>\n",
       "      <td>NaN</td>\n",
       "      <td>S</td>\n",
       "    </tr>\n",
       "    <tr>\n",
       "      <th>4</th>\n",
       "      <td>1</td>\n",
       "      <td>1</td>\n",
       "      <td>Futrelle, Mrs. Jacques Heath (Lily May Peel)</td>\n",
       "      <td>female</td>\n",
       "      <td>35.0</td>\n",
       "      <td>1</td>\n",
       "      <td>0</td>\n",
       "      <td>113803</td>\n",
       "      <td>53.1000</td>\n",
       "      <td>C123</td>\n",
       "      <td>S</td>\n",
       "    </tr>\n",
       "    <tr>\n",
       "      <th>5</th>\n",
       "      <td>0</td>\n",
       "      <td>3</td>\n",
       "      <td>Allen, Mr. William Henry</td>\n",
       "      <td>male</td>\n",
       "      <td>35.0</td>\n",
       "      <td>0</td>\n",
       "      <td>0</td>\n",
       "      <td>373450</td>\n",
       "      <td>8.0500</td>\n",
       "      <td>NaN</td>\n",
       "      <td>S</td>\n",
       "    </tr>\n",
       "  </tbody>\n",
       "</table>\n",
       "</div>"
      ],
      "text/plain": [
       "             Survived  Pclass  \\\n",
       "PassengerId                     \n",
       "1                   0       3   \n",
       "2                   1       1   \n",
       "3                   1       3   \n",
       "4                   1       1   \n",
       "5                   0       3   \n",
       "\n",
       "                                                          Name     Sex   Age  \\\n",
       "PassengerId                                                                    \n",
       "1                                      Braund, Mr. Owen Harris    male  22.0   \n",
       "2            Cumings, Mrs. John Bradley (Florence Briggs Th...  female  38.0   \n",
       "3                                       Heikkinen, Miss. Laina  female  26.0   \n",
       "4                 Futrelle, Mrs. Jacques Heath (Lily May Peel)  female  35.0   \n",
       "5                                     Allen, Mr. William Henry    male  35.0   \n",
       "\n",
       "             SibSp  Parch            Ticket     Fare Cabin Embarked  \n",
       "PassengerId                                                          \n",
       "1                1      0         A/5 21171   7.2500   NaN        S  \n",
       "2                1      0          PC 17599  71.2833   C85        C  \n",
       "3                0      0  STON/O2. 3101282   7.9250   NaN        S  \n",
       "4                1      0            113803  53.1000  C123        S  \n",
       "5                0      0            373450   8.0500   NaN        S  "
      ]
     },
     "execution_count": 8,
     "metadata": {},
     "output_type": "execute_result"
    }
   ],
   "source": [
    "df = pd.read_csv('data/titanic/manifest.csv', index_col='PassengerId')\n",
    "df.head()"
   ]
  },
  {
   "cell_type": "markdown",
   "metadata": {
    "ExecuteTime": {
     "end_time": "2018-09-21T00:17:28.389581Z",
     "start_time": "2018-09-21T00:17:28.386870Z"
    }
   },
   "source": [
    "The DataFrame has 11 columns:"
   ]
  },
  {
   "cell_type": "markdown",
   "metadata": {
    "ExecuteTime": {
     "end_time": "2018-09-21T00:40:13.231762Z",
     "start_time": "2018-09-21T00:40:13.225959Z"
    }
   },
   "source": [
    "| Feature  | Description |\n",
    "| -------- | ----------- |\n",
    "| Survived | Survival |\n",
    "| Pclass   | Ticket Class |\n",
    "| Name     | Name |\n",
    "| Sex      | Sex |\n",
    "| Age      | Age (Years) |\n",
    "| SibSp    | Number of Siblings/Spouses Aboard |\n",
    "| Parch    | Number of Parents/Children Aboard |\n",
    "| Ticket   | Ticket Number |\n",
    "| Fare     | Passenger Fare |\n",
    "| Cabin    | Cabin Number |\n",
    "| Embarked | Port of Embarkation |\n",
    "\n"
   ]
  },
  {
   "cell_type": "markdown",
   "metadata": {},
   "source": [
    "Calling `df.dtypes` reveals the data types for each column, but calling `df.info()` will reveal the number of `null` values as well:"
   ]
  },
  {
   "cell_type": "code",
   "execution_count": 9,
   "metadata": {
    "ExecuteTime": {
     "end_time": "2019-01-03T04:54:05.150689Z",
     "start_time": "2019-01-03T04:54:05.146036Z"
    }
   },
   "outputs": [
    {
     "name": "stdout",
     "output_type": "stream",
     "text": [
      "<class 'pandas.core.frame.DataFrame'>\n",
      "Int64Index: 891 entries, 1 to 891\n",
      "Data columns (total 11 columns):\n",
      "Survived    891 non-null int64\n",
      "Pclass      891 non-null int64\n",
      "Name        891 non-null object\n",
      "Sex         891 non-null object\n",
      "Age         714 non-null float64\n",
      "SibSp       891 non-null int64\n",
      "Parch       891 non-null int64\n",
      "Ticket      891 non-null object\n",
      "Fare        891 non-null float64\n",
      "Cabin       204 non-null object\n",
      "Embarked    889 non-null object\n",
      "dtypes: float64(2), int64(4), object(5)\n",
      "memory usage: 83.5+ KB\n"
     ]
    }
   ],
   "source": [
    "df.info()"
   ]
  },
  {
   "cell_type": "markdown",
   "metadata": {},
   "source": [
    "Since we're interested in predicting whether Ms. Dorothy Winifred Gibson survived the RMS Titanic disaster, we add her passenger manifest information to the end of the DataFrame so the features are transformed in the same way:"
   ]
  },
  {
   "cell_type": "code",
   "execution_count": 10,
   "metadata": {
    "ExecuteTime": {
     "end_time": "2019-01-03T04:54:05.222746Z",
     "start_time": "2019-01-03T04:54:05.208960Z"
    }
   },
   "outputs": [
    {
     "data": {
      "text/html": [
       "<div>\n",
       "<style scoped>\n",
       "    .dataframe tbody tr th:only-of-type {\n",
       "        vertical-align: middle;\n",
       "    }\n",
       "\n",
       "    .dataframe tbody tr th {\n",
       "        vertical-align: top;\n",
       "    }\n",
       "\n",
       "    .dataframe thead th {\n",
       "        text-align: right;\n",
       "    }\n",
       "</style>\n",
       "<table border=\"1\" class=\"dataframe\">\n",
       "  <thead>\n",
       "    <tr style=\"text-align: right;\">\n",
       "      <th></th>\n",
       "      <th>Survived</th>\n",
       "      <th>Pclass</th>\n",
       "      <th>Name</th>\n",
       "      <th>Sex</th>\n",
       "      <th>Age</th>\n",
       "      <th>SibSp</th>\n",
       "      <th>Parch</th>\n",
       "      <th>Ticket</th>\n",
       "      <th>Fare</th>\n",
       "      <th>Cabin</th>\n",
       "      <th>Embarked</th>\n",
       "    </tr>\n",
       "  </thead>\n",
       "  <tbody>\n",
       "    <tr>\n",
       "      <th>887</th>\n",
       "      <td>1.0</td>\n",
       "      <td>1</td>\n",
       "      <td>Graham, Miss. Margaret Edith</td>\n",
       "      <td>female</td>\n",
       "      <td>19.0</td>\n",
       "      <td>0</td>\n",
       "      <td>0</td>\n",
       "      <td>112053</td>\n",
       "      <td>30.00</td>\n",
       "      <td>B42</td>\n",
       "      <td>S</td>\n",
       "    </tr>\n",
       "    <tr>\n",
       "      <th>888</th>\n",
       "      <td>0.0</td>\n",
       "      <td>3</td>\n",
       "      <td>Johnston, Miss. Catherine Helen \"Carrie\"</td>\n",
       "      <td>female</td>\n",
       "      <td>NaN</td>\n",
       "      <td>1</td>\n",
       "      <td>2</td>\n",
       "      <td>W./C. 6607</td>\n",
       "      <td>23.45</td>\n",
       "      <td>NaN</td>\n",
       "      <td>S</td>\n",
       "    </tr>\n",
       "    <tr>\n",
       "      <th>889</th>\n",
       "      <td>1.0</td>\n",
       "      <td>1</td>\n",
       "      <td>Behr, Mr. Karl Howell</td>\n",
       "      <td>male</td>\n",
       "      <td>26.0</td>\n",
       "      <td>0</td>\n",
       "      <td>0</td>\n",
       "      <td>111369</td>\n",
       "      <td>30.00</td>\n",
       "      <td>C148</td>\n",
       "      <td>C</td>\n",
       "    </tr>\n",
       "    <tr>\n",
       "      <th>890</th>\n",
       "      <td>0.0</td>\n",
       "      <td>3</td>\n",
       "      <td>Dooley, Mr. Patrick</td>\n",
       "      <td>male</td>\n",
       "      <td>32.0</td>\n",
       "      <td>0</td>\n",
       "      <td>0</td>\n",
       "      <td>370376</td>\n",
       "      <td>7.75</td>\n",
       "      <td>NaN</td>\n",
       "      <td>Q</td>\n",
       "    </tr>\n",
       "    <tr>\n",
       "      <th>891</th>\n",
       "      <td>NaN</td>\n",
       "      <td>1</td>\n",
       "      <td>Gibson, Miss. Dorothy Winifred</td>\n",
       "      <td>female</td>\n",
       "      <td>22.0</td>\n",
       "      <td>0</td>\n",
       "      <td>1</td>\n",
       "      <td>112378</td>\n",
       "      <td>59.40</td>\n",
       "      <td>NaN</td>\n",
       "      <td>C</td>\n",
       "    </tr>\n",
       "  </tbody>\n",
       "</table>\n",
       "</div>"
      ],
      "text/plain": [
       "     Survived  Pclass                                      Name     Sex   Age  \\\n",
       "887       1.0       1              Graham, Miss. Margaret Edith  female  19.0   \n",
       "888       0.0       3  Johnston, Miss. Catherine Helen \"Carrie\"  female   NaN   \n",
       "889       1.0       1                     Behr, Mr. Karl Howell    male  26.0   \n",
       "890       0.0       3                       Dooley, Mr. Patrick    male  32.0   \n",
       "891       NaN       1            Gibson, Miss. Dorothy Winifred  female  22.0   \n",
       "\n",
       "     SibSp  Parch      Ticket   Fare Cabin Embarked  \n",
       "887      0      0      112053  30.00   B42        S  \n",
       "888      1      2  W./C. 6607  23.45   NaN        S  \n",
       "889      0      0      111369  30.00  C148        C  \n",
       "890      0      0      370376   7.75   NaN        Q  \n",
       "891      0      1      112378  59.40   NaN        C  "
      ]
     },
     "execution_count": 10,
     "metadata": {},
     "output_type": "execute_result"
    }
   ],
   "source": [
    "df = df.append({\n",
    "    'Pclass': 1,\n",
    "    'Name': 'Gibson, Miss. Dorothy Winifred',\n",
    "    'Sex': 'female',\n",
    "    'Age': 22,\n",
    "    'SibSp': 0,\n",
    "    'Parch': 1,\n",
    "    'Ticket': 112378,\n",
    "    'Fare': 59.4,\n",
    "    'Cabin': np.NaN,\n",
    "    'Embarked': 'C',\n",
    "}, ignore_index=True)\n",
    "df.tail()"
   ]
  },
  {
   "cell_type": "markdown",
   "metadata": {},
   "source": [
    "Most Machine Learning models only work with a complete DataFrame of numbers. The model will use all the columns apart from the target column (the features), to try and and predict the target column. In this case, the target column is `Survived` and the other columns make up the features.\n",
    "\n",
    "Notice that `Age`, `Cabin` and `Embarked` don't have as many entries as the other columns and contain missing values. We will come back to this later.\n",
    "\n",
    "Now, we want to make sure all the columns are their correct Pandas data type:\n",
    "\n",
    "| Feature  | Current `dtype` | Correct `dtype` |\n",
    "| -------- | --------------- | ----------------|\n",
    "| Survived | `int64`         | `bool`          |\n",
    "| Pclass   | `int64`         | `category`      |\n",
    "| Name     | `object`        | `object`        |\n",
    "| Sex      | `object`        | `category`      |\n",
    "| Age      | `float64`       | `float64`       |\n",
    "| SibSp    | `int64`         | `int64`         |\n",
    "| Parch    | `int64`         | `int64`         |\n",
    "| Ticket   | `object`        | `object`        |\n",
    "| Fare     | `float64`       | `float64`       |\n",
    "| Cabin    | `object`        | `object`        |\n",
    "| Embarked | `object`        | `category`      |"
   ]
  },
  {
   "cell_type": "markdown",
   "metadata": {},
   "source": [
    "Converting the mismatched data types:"
   ]
  },
  {
   "cell_type": "code",
   "execution_count": 11,
   "metadata": {
    "ExecuteTime": {
     "end_time": "2019-01-03T04:54:05.333766Z",
     "start_time": "2019-01-03T04:54:05.329882Z"
    }
   },
   "outputs": [],
   "source": [
    "# convert to bool\n",
    "df.Survived = df.Survived.astype(bool)\n",
    "\n",
    "# convert to category\n",
    "df.Pclass = df.Pclass.astype('category')\n",
    "df.Sex = df.Sex.astype('category')\n",
    "df.Embarked = df.Embarked.astype('category')"
   ]
  },
  {
   "cell_type": "markdown",
   "metadata": {},
   "source": [
    "## Feature Engineering"
   ]
  },
  {
   "cell_type": "markdown",
   "metadata": {},
   "source": [
    "Instead of jumping straight to training a Machine Learning prediction model, we see whether we can add a few extra columns that may help increase the predictive power of the model."
   ]
  },
  {
   "cell_type": "markdown",
   "metadata": {},
   "source": [
    "Let's examine the `Name` column:"
   ]
  },
  {
   "cell_type": "code",
   "execution_count": 12,
   "metadata": {
    "ExecuteTime": {
     "end_time": "2019-01-03T04:54:05.483080Z",
     "start_time": "2019-01-03T04:54:05.480150Z"
    }
   },
   "outputs": [
    {
     "data": {
      "text/plain": [
       "0                              Braund, Mr. Owen Harris\n",
       "1    Cumings, Mrs. John Bradley (Florence Briggs Th...\n",
       "2                               Heikkinen, Miss. Laina\n",
       "3         Futrelle, Mrs. Jacques Heath (Lily May Peel)\n",
       "4                             Allen, Mr. William Henry\n",
       "Name: Name, dtype: object"
      ]
     },
     "execution_count": 12,
     "metadata": {},
     "output_type": "execute_result"
    }
   ],
   "source": [
    "df.Name.head()"
   ]
  },
  {
   "cell_type": "markdown",
   "metadata": {},
   "source": [
    "The `Name` column isn't very usable in its current form, but if we can extract the title of each passenger, it can be used as an indicator of socio-economic class. To extract the title, we use regular expressions to isolate the substring between the space and period."
   ]
  },
  {
   "cell_type": "code",
   "execution_count": 13,
   "metadata": {
    "ExecuteTime": {
     "end_time": "2019-01-03T04:54:05.547199Z",
     "start_time": "2019-01-03T04:54:05.540558Z"
    }
   },
   "outputs": [
    {
     "data": {
      "text/html": [
       "<div>\n",
       "<style scoped>\n",
       "    .dataframe tbody tr th:only-of-type {\n",
       "        vertical-align: middle;\n",
       "    }\n",
       "\n",
       "    .dataframe tbody tr th {\n",
       "        vertical-align: top;\n",
       "    }\n",
       "\n",
       "    .dataframe thead th {\n",
       "        text-align: right;\n",
       "    }\n",
       "</style>\n",
       "<table border=\"1\" class=\"dataframe\">\n",
       "  <thead>\n",
       "    <tr style=\"text-align: right;\">\n",
       "      <th></th>\n",
       "      <th>Name</th>\n",
       "      <th>Title</th>\n",
       "    </tr>\n",
       "  </thead>\n",
       "  <tbody>\n",
       "    <tr>\n",
       "      <th>0</th>\n",
       "      <td>Braund, Mr. Owen Harris</td>\n",
       "      <td>Mr</td>\n",
       "    </tr>\n",
       "    <tr>\n",
       "      <th>1</th>\n",
       "      <td>Cumings, Mrs. John Bradley (Florence Briggs Th...</td>\n",
       "      <td>Mrs</td>\n",
       "    </tr>\n",
       "    <tr>\n",
       "      <th>2</th>\n",
       "      <td>Heikkinen, Miss. Laina</td>\n",
       "      <td>Miss</td>\n",
       "    </tr>\n",
       "    <tr>\n",
       "      <th>3</th>\n",
       "      <td>Futrelle, Mrs. Jacques Heath (Lily May Peel)</td>\n",
       "      <td>Mrs</td>\n",
       "    </tr>\n",
       "    <tr>\n",
       "      <th>4</th>\n",
       "      <td>Allen, Mr. William Henry</td>\n",
       "      <td>Mr</td>\n",
       "    </tr>\n",
       "  </tbody>\n",
       "</table>\n",
       "</div>"
      ],
      "text/plain": [
       "                                                Name Title\n",
       "0                            Braund, Mr. Owen Harris    Mr\n",
       "1  Cumings, Mrs. John Bradley (Florence Briggs Th...   Mrs\n",
       "2                             Heikkinen, Miss. Laina  Miss\n",
       "3       Futrelle, Mrs. Jacques Heath (Lily May Peel)   Mrs\n",
       "4                           Allen, Mr. William Henry    Mr"
      ]
     },
     "execution_count": 13,
     "metadata": {},
     "output_type": "execute_result"
    }
   ],
   "source": [
    "df['Title'] = df.Name.str.extract(r' ([^\\s]+)\\.')\n",
    "df[['Name', 'Title']].head()"
   ]
  },
  {
   "cell_type": "markdown",
   "metadata": {},
   "source": [
    "We list all the unique titles and their counts:"
   ]
  },
  {
   "cell_type": "code",
   "execution_count": 14,
   "metadata": {
    "ExecuteTime": {
     "end_time": "2019-01-03T04:54:05.605567Z",
     "start_time": "2019-01-03T04:54:05.601033Z"
    }
   },
   "outputs": [
    {
     "data": {
      "text/plain": [
       "Mr          517\n",
       "Miss        183\n",
       "Mrs         125\n",
       "Master       40\n",
       "Dr            7\n",
       "Rev           6\n",
       "Major         2\n",
       "Mlle          2\n",
       "Col           2\n",
       "Sir           1\n",
       "Don           1\n",
       "Jonkheer      1\n",
       "Mme           1\n",
       "Ms            1\n",
       "Lady          1\n",
       "Capt          1\n",
       "Countess      1\n",
       "Name: Title, dtype: int64"
      ]
     },
     "execution_count": 14,
     "metadata": {},
     "output_type": "execute_result"
    }
   ],
   "source": [
    "df.Title.value_counts()"
   ]
  },
  {
   "cell_type": "markdown",
   "metadata": {},
   "source": [
    "We can group them uncommon titles together, replacing them with \"Rare\"."
   ]
  },
  {
   "cell_type": "code",
   "execution_count": 15,
   "metadata": {
    "ExecuteTime": {
     "end_time": "2019-01-03T04:54:05.705808Z",
     "start_time": "2019-01-03T04:54:05.697010Z"
    }
   },
   "outputs": [
    {
     "data": {
      "text/plain": [
       "Mr        517\n",
       "Ms        186\n",
       "Mrs       126\n",
       "Master     40\n",
       "Rare       23\n",
       "Name: Title, dtype: int64"
      ]
     },
     "execution_count": 15,
     "metadata": {},
     "output_type": "execute_result"
    }
   ],
   "source": [
    "df.Title.replace({\n",
    "    'Capt': 'Rare',\n",
    "    'Col': 'Rare',\n",
    "    'Countess': 'Rare',\n",
    "    'Don': 'Rare',\n",
    "    'Dr': 'Rare',\n",
    "    'Jonkheer': 'Rare',\n",
    "    'Lady': 'Rare',\n",
    "    'Major': 'Rare',\n",
    "    'Master': 'Master',\n",
    "    'Miss': 'Ms',\n",
    "    'Mlle': 'Ms',\n",
    "    'Mme': 'Mrs',\n",
    "    'Mr': 'Mr',\n",
    "    'Mrs': 'Mrs',\n",
    "    'Ms': 'Ms',\n",
    "    'Rev': 'Rare',\n",
    "    'Sir': 'Rare',\n",
    "}, inplace=True)\n",
    "\n",
    "df.Title.value_counts()"
   ]
  },
  {
   "cell_type": "markdown",
   "metadata": {
    "ExecuteTime": {
     "end_time": "2018-11-20T16:54:21.267550Z",
     "start_time": "2018-11-20T16:54:21.260494Z"
    }
   },
   "source": [
    "Since there are only 5 unique titles, we can happily convert the column to the `category` data type."
   ]
  },
  {
   "cell_type": "code",
   "execution_count": 16,
   "metadata": {
    "ExecuteTime": {
     "end_time": "2019-01-03T04:54:05.752075Z",
     "start_time": "2019-01-03T04:54:05.749645Z"
    }
   },
   "outputs": [],
   "source": [
    "df.Title = df.Title.astype('category')"
   ]
  },
  {
   "cell_type": "markdown",
   "metadata": {},
   "source": [
    "We add two more potentially useful features: `FamilySize` and `TravellingAlone`."
   ]
  },
  {
   "cell_type": "code",
   "execution_count": 17,
   "metadata": {
    "ExecuteTime": {
     "end_time": "2019-01-03T04:54:05.823047Z",
     "start_time": "2019-01-03T04:54:05.818133Z"
    }
   },
   "outputs": [],
   "source": [
    "df['FamilySize'] = df.SibSp + df.Parch + 1\n",
    "df['TravellingAlone'] = (df.FamilySize == 1)"
   ]
  },
  {
   "cell_type": "markdown",
   "metadata": {},
   "source": [
    "## Impute Missing Data"
   ]
  },
  {
   "cell_type": "markdown",
   "metadata": {},
   "source": [
    "Since Machine Learning algorithms don't work well with `null` or missing values, we either have to fill them in or delete the entire row/column with the missing values. Let's look at the 3 columns that contain missing values, `Age`, `Cabin` and `Embarked`, each in turn:"
   ]
  },
  {
   "cell_type": "markdown",
   "metadata": {
    "ExecuteTime": {
     "end_time": "2018-09-26T15:33:23.021107Z",
     "start_time": "2018-09-26T15:33:23.019067Z"
    }
   },
   "source": [
    "### Age"
   ]
  },
  {
   "cell_type": "code",
   "execution_count": 18,
   "metadata": {
    "ExecuteTime": {
     "end_time": "2019-01-03T04:54:05.938831Z",
     "start_time": "2019-01-03T04:54:05.935471Z"
    }
   },
   "outputs": [
    {
     "data": {
      "text/plain": [
       "NaN      177\n",
       " 24.0     30\n",
       " 22.0     28\n",
       " 18.0     26\n",
       " 28.0     25\n",
       "Name: Age, dtype: int64"
      ]
     },
     "execution_count": 18,
     "metadata": {},
     "output_type": "execute_result"
    }
   ],
   "source": [
    "df.Age.value_counts(dropna=False).head()"
   ]
  },
  {
   "cell_type": "markdown",
   "metadata": {
    "ExecuteTime": {
     "end_time": "2018-09-26T15:39:49.253463Z",
     "start_time": "2018-09-26T15:39:49.251108Z"
    }
   },
   "source": [
    "Since `NaN`s make up a large proportion of the values in the column, we set the missing values to 0.0 and add another column indicating that the value is missing."
   ]
  },
  {
   "cell_type": "code",
   "execution_count": 19,
   "metadata": {
    "ExecuteTime": {
     "end_time": "2019-01-03T04:54:05.998974Z",
     "start_time": "2019-01-03T04:54:05.996122Z"
    }
   },
   "outputs": [],
   "source": [
    "df['AgeMissing'] = df.Age.isna()\n",
    "df.Age.fillna(0.0, inplace=True)"
   ]
  },
  {
   "cell_type": "markdown",
   "metadata": {},
   "source": [
    "### Cabin"
   ]
  },
  {
   "cell_type": "code",
   "execution_count": 20,
   "metadata": {
    "ExecuteTime": {
     "end_time": "2019-01-03T04:54:06.060004Z",
     "start_time": "2019-01-03T04:54:06.056352Z"
    }
   },
   "outputs": [
    {
     "data": {
      "text/plain": [
       "NaN            688\n",
       "G6               4\n",
       "B96 B98          4\n",
       "C23 C25 C27      4\n",
       "F2               3\n",
       "Name: Cabin, dtype: int64"
      ]
     },
     "execution_count": 20,
     "metadata": {},
     "output_type": "execute_result"
    }
   ],
   "source": [
    "df.Cabin.value_counts(dropna=False).head()"
   ]
  },
  {
   "cell_type": "markdown",
   "metadata": {},
   "source": [
    "Nearly all the values in the `Cabin` column are `NaN`. It's easiest to just drop the entire column."
   ]
  },
  {
   "cell_type": "code",
   "execution_count": 21,
   "metadata": {
    "ExecuteTime": {
     "end_time": "2019-01-03T04:54:06.117695Z",
     "start_time": "2019-01-03T04:54:06.114921Z"
    }
   },
   "outputs": [],
   "source": [
    "df.drop('Cabin', axis=1, inplace=True)"
   ]
  },
  {
   "cell_type": "markdown",
   "metadata": {},
   "source": [
    "### Embarked"
   ]
  },
  {
   "cell_type": "code",
   "execution_count": 22,
   "metadata": {
    "ExecuteTime": {
     "end_time": "2019-01-03T04:54:06.211974Z",
     "start_time": "2019-01-03T04:54:06.207427Z"
    }
   },
   "outputs": [
    {
     "data": {
      "text/plain": [
       "S      644\n",
       "C      169\n",
       "Q       77\n",
       "NaN      2\n",
       "Name: Embarked, dtype: int64"
      ]
     },
     "execution_count": 22,
     "metadata": {},
     "output_type": "execute_result"
    }
   ],
   "source": [
    "df.Embarked.value_counts(dropna=False).head()"
   ]
  },
  {
   "cell_type": "markdown",
   "metadata": {},
   "source": [
    "The ports where people embarked were: Cherbourg (C), Queenstown (Q) and Southampton (S). Since the overwhelming majority of people embarked at Southampton and there are only 2 `NaN`s, we just assume that those 2 people also embarked at Southampton."
   ]
  },
  {
   "cell_type": "code",
   "execution_count": 23,
   "metadata": {
    "ExecuteTime": {
     "end_time": "2019-01-03T04:54:06.270668Z",
     "start_time": "2019-01-03T04:54:06.268575Z"
    }
   },
   "outputs": [],
   "source": [
    "df.Embarked.fillna('S', inplace=True)"
   ]
  },
  {
   "cell_type": "markdown",
   "metadata": {},
   "source": [
    "With the `NaN`s either filled in or removed, the issue with Machine Learning algorithms is that it is unable to process raw strings. Let's look at the columns again:"
   ]
  },
  {
   "cell_type": "code",
   "execution_count": 24,
   "metadata": {
    "ExecuteTime": {
     "end_time": "2019-01-03T04:54:07.350219Z",
     "start_time": "2019-01-03T04:54:07.342464Z"
    }
   },
   "outputs": [
    {
     "name": "stdout",
     "output_type": "stream",
     "text": [
      "<class 'pandas.core.frame.DataFrame'>\n",
      "RangeIndex: 892 entries, 0 to 891\n",
      "Data columns (total 14 columns):\n",
      "Survived           892 non-null bool\n",
      "Pclass             892 non-null category\n",
      "Name               892 non-null object\n",
      "Sex                892 non-null category\n",
      "Age                892 non-null float64\n",
      "SibSp              892 non-null int64\n",
      "Parch              892 non-null int64\n",
      "Ticket             892 non-null object\n",
      "Fare               892 non-null float64\n",
      "Embarked           892 non-null category\n",
      "Title              892 non-null category\n",
      "FamilySize         892 non-null int64\n",
      "TravellingAlone    892 non-null bool\n",
      "AgeMissing         892 non-null bool\n",
      "dtypes: bool(3), category(4), float64(2), int64(3), object(2)\n",
      "memory usage: 55.4+ KB\n"
     ]
    }
   ],
   "source": [
    "df.info()"
   ]
  },
  {
   "cell_type": "markdown",
   "metadata": {},
   "source": [
    "Pandas represents strings with the `object` data type. Since the model can only use features that are numbers, we remove those columns:"
   ]
  },
  {
   "cell_type": "code",
   "execution_count": 25,
   "metadata": {
    "ExecuteTime": {
     "end_time": "2019-01-03T04:54:07.421322Z",
     "start_time": "2019-01-03T04:54:07.419054Z"
    }
   },
   "outputs": [],
   "source": [
    "df.drop(['Name', 'Ticket'], axis=1, inplace=True)"
   ]
  },
  {
   "cell_type": "markdown",
   "metadata": {},
   "source": [
    "## One-Hot Encoding"
   ]
  },
  {
   "cell_type": "markdown",
   "metadata": {},
   "source": [
    "Category names are often strings and cannot be processed directly by Machine Learning models. One way to solve this is to map category names to category codes, e.g. `Monday = 1`, `Tuesday = 2`, `Wednesday = 3`, etc. This may work well for categories like days of the week, but not all categories have a natural ordering. Mapping `Apple = 1`, `Banana = 2`, `Cherries = 3` for a fruits category column implies that the relationship between Apples and Bananas is closer than Apples to Cherries, which is untrue.\n",
    "\n",
    "The solution is one-hot encoding. One-hot encoding splits a categorical column into as many columns as there are categories. Then, in each row, a 1 is placed in the column corresponding to the correct category.\n",
    "\n",
    "For example, suppose we have a DataFrame of fruit varieties and the type of fruit it corresponds to:"
   ]
  },
  {
   "cell_type": "code",
   "execution_count": 26,
   "metadata": {
    "ExecuteTime": {
     "end_time": "2019-01-03T04:54:07.522989Z",
     "start_time": "2019-01-03T04:54:07.512811Z"
    }
   },
   "outputs": [
    {
     "data": {
      "text/html": [
       "<div>\n",
       "<style scoped>\n",
       "    .dataframe tbody tr th:only-of-type {\n",
       "        vertical-align: middle;\n",
       "    }\n",
       "\n",
       "    .dataframe tbody tr th {\n",
       "        vertical-align: top;\n",
       "    }\n",
       "\n",
       "    .dataframe thead th {\n",
       "        text-align: right;\n",
       "    }\n",
       "</style>\n",
       "<table border=\"1\" class=\"dataframe\">\n",
       "  <thead>\n",
       "    <tr style=\"text-align: right;\">\n",
       "      <th></th>\n",
       "      <th>variety</th>\n",
       "      <th>type</th>\n",
       "    </tr>\n",
       "  </thead>\n",
       "  <tbody>\n",
       "    <tr>\n",
       "      <th>0</th>\n",
       "      <td>Bing</td>\n",
       "      <td>Cherries</td>\n",
       "    </tr>\n",
       "    <tr>\n",
       "      <th>1</th>\n",
       "      <td>Cavendish</td>\n",
       "      <td>Bananas</td>\n",
       "    </tr>\n",
       "    <tr>\n",
       "      <th>2</th>\n",
       "      <td>Granny Smith</td>\n",
       "      <td>Apples</td>\n",
       "    </tr>\n",
       "    <tr>\n",
       "      <th>3</th>\n",
       "      <td>Plantain</td>\n",
       "      <td>Bananas</td>\n",
       "    </tr>\n",
       "    <tr>\n",
       "      <th>4</th>\n",
       "      <td>Red Delicious</td>\n",
       "      <td>Apples</td>\n",
       "    </tr>\n",
       "  </tbody>\n",
       "</table>\n",
       "</div>"
      ],
      "text/plain": [
       "         variety      type\n",
       "0           Bing  Cherries\n",
       "1      Cavendish   Bananas\n",
       "2   Granny Smith    Apples\n",
       "3       Plantain   Bananas\n",
       "4  Red Delicious    Apples"
      ]
     },
     "execution_count": 26,
     "metadata": {},
     "output_type": "execute_result"
    }
   ],
   "source": [
    "df_fruits = pd.DataFrame([{'variety': 'Bing', 'type': 'Cherries'},\n",
    "                          {'variety': 'Cavendish', 'type': 'Bananas'},\n",
    "                          {'variety': 'Granny Smith', 'type': 'Apples'},\n",
    "                          {'variety': 'Plantain', 'type': 'Bananas'},\n",
    "                          {'variety': 'Red Delicious', 'type': 'Apples'}])\n",
    "\n",
    "df_fruits.type = df_fruits.type.astype('category')\n",
    "df_fruits[['variety', 'type']]"
   ]
  },
  {
   "cell_type": "markdown",
   "metadata": {},
   "source": [
    "When one-hot encoded, the type column (which is already a `category` data type) results in:"
   ]
  },
  {
   "cell_type": "code",
   "execution_count": 27,
   "metadata": {
    "ExecuteTime": {
     "end_time": "2019-01-03T04:54:07.584548Z",
     "start_time": "2019-01-03T04:54:07.574529Z"
    }
   },
   "outputs": [
    {
     "data": {
      "text/html": [
       "<div>\n",
       "<style scoped>\n",
       "    .dataframe tbody tr th:only-of-type {\n",
       "        vertical-align: middle;\n",
       "    }\n",
       "\n",
       "    .dataframe tbody tr th {\n",
       "        vertical-align: top;\n",
       "    }\n",
       "\n",
       "    .dataframe thead th {\n",
       "        text-align: right;\n",
       "    }\n",
       "</style>\n",
       "<table border=\"1\" class=\"dataframe\">\n",
       "  <thead>\n",
       "    <tr style=\"text-align: right;\">\n",
       "      <th></th>\n",
       "      <th>variety</th>\n",
       "      <th>type_Apples</th>\n",
       "      <th>type_Bananas</th>\n",
       "      <th>type_Cherries</th>\n",
       "    </tr>\n",
       "  </thead>\n",
       "  <tbody>\n",
       "    <tr>\n",
       "      <th>0</th>\n",
       "      <td>Bing</td>\n",
       "      <td>0</td>\n",
       "      <td>0</td>\n",
       "      <td>1</td>\n",
       "    </tr>\n",
       "    <tr>\n",
       "      <th>1</th>\n",
       "      <td>Cavendish</td>\n",
       "      <td>0</td>\n",
       "      <td>1</td>\n",
       "      <td>0</td>\n",
       "    </tr>\n",
       "    <tr>\n",
       "      <th>2</th>\n",
       "      <td>Granny Smith</td>\n",
       "      <td>1</td>\n",
       "      <td>0</td>\n",
       "      <td>0</td>\n",
       "    </tr>\n",
       "    <tr>\n",
       "      <th>3</th>\n",
       "      <td>Plantain</td>\n",
       "      <td>0</td>\n",
       "      <td>1</td>\n",
       "      <td>0</td>\n",
       "    </tr>\n",
       "    <tr>\n",
       "      <th>4</th>\n",
       "      <td>Red Delicious</td>\n",
       "      <td>1</td>\n",
       "      <td>0</td>\n",
       "      <td>0</td>\n",
       "    </tr>\n",
       "  </tbody>\n",
       "</table>\n",
       "</div>"
      ],
      "text/plain": [
       "         variety  type_Apples  type_Bananas  type_Cherries\n",
       "0           Bing            0             0              1\n",
       "1      Cavendish            0             1              0\n",
       "2   Granny Smith            1             0              0\n",
       "3       Plantain            0             1              0\n",
       "4  Red Delicious            1             0              0"
      ]
     },
     "execution_count": 27,
     "metadata": {},
     "output_type": "execute_result"
    }
   ],
   "source": [
    "pd.get_dummies(df_fruits, columns=['type'])"
   ]
  },
  {
   "cell_type": "markdown",
   "metadata": {},
   "source": [
    "Calling `pd.get_dummies` with a DataFrame, one-hot encodes all columns with an object or category data type."
   ]
  },
  {
   "cell_type": "code",
   "execution_count": 28,
   "metadata": {
    "ExecuteTime": {
     "end_time": "2019-01-03T04:54:07.669378Z",
     "start_time": "2019-01-03T04:54:07.654813Z"
    }
   },
   "outputs": [
    {
     "data": {
      "text/plain": [
       "Index(['Survived', 'Age', 'SibSp', 'Parch', 'Fare', 'FamilySize',\n",
       "       'TravellingAlone', 'AgeMissing', 'Pclass_1', 'Pclass_2', 'Pclass_3',\n",
       "       'Sex_female', 'Sex_male', 'Embarked_C', 'Embarked_Q', 'Embarked_S',\n",
       "       'Title_Master', 'Title_Mr', 'Title_Mrs', 'Title_Ms', 'Title_Rare'],\n",
       "      dtype='object')"
      ]
     },
     "execution_count": 28,
     "metadata": {},
     "output_type": "execute_result"
    }
   ],
   "source": [
    "df = pd.get_dummies(df)\n",
    "df.columns"
   ]
  },
  {
   "cell_type": "markdown",
   "metadata": {},
   "source": [
    "## Fix Skewness for Numerical Features"
   ]
  },
  {
   "cell_type": "markdown",
   "metadata": {},
   "source": [
    "Machine Learning algorithms work better when the data is as close to symmetric as possible. Data can often have a negative skew or a positive skew: "
   ]
  },
  {
   "cell_type": "code",
   "execution_count": 29,
   "metadata": {
    "ExecuteTime": {
     "end_time": "2019-01-03T04:54:08.025422Z",
     "start_time": "2019-01-03T04:54:07.791359Z"
    },
    "tags": [
     "ignore-input"
    ]
   },
   "outputs": [
    {
     "data": {
      "image/png": "[encoded data removed]",
      "text/plain": [
       "<Figure size 576x576 with 3 Axes>"
      ]
     },
     "metadata": {},
     "output_type": "display_data"
    }
   ],
   "source": [
    "with plt.style.context(('plot.mplstyle')):\n",
    "    fig, ax = plt.subplots(3, 1, sharex='col', figsize=(8, 8))\n",
    "\n",
    "    a = -4\n",
    "    x = np.linspace(skewnorm.ppf(0.01, a), skewnorm.ppf(0.99, a), 100)\n",
    "    ax[0].plot(x, skewnorm.pdf(x, a), color='#ffc018', lw=3);\n",
    "    ax[0].set_title('Negative Skew', family='Source Sans Pro', fontsize=16, fontstyle='italic', loc='left', x=0.05, y=0.45);\n",
    "    ax[0].set_ylim(0, 0.8);\n",
    "    ax[0].yaxis.tick_right()\n",
    "\n",
    "\n",
    "    a = 0\n",
    "    x = np.linspace(skewnorm.ppf(0.01, a), skewnorm.ppf(0.99, a), 100)\n",
    "    ax[1].plot(x, skewnorm.pdf(x, a), color='#ffc018', lw=3);\n",
    "    ax[1].set_title('No Skew', family='Source Sans Pro', fontsize=16, fontstyle='italic', loc='left', x=0.05, y=0.45);\n",
    "    ax[1].set_ylim(0, 0.8);\n",
    "    ax[1].yaxis.tick_right()\n",
    "\n",
    "    a = 4\n",
    "    x = np.linspace(skewnorm.ppf(0.01, a), skewnorm.ppf(0.99, a), 100)\n",
    "    ax[2].plot(x, skewnorm.pdf(x, a), color='#ffc018', lw=3);\n",
    "    ax[2].set_title('Positive Skew', family='Source Sans Pro', fontsize=16, fontstyle='italic', loc='left', x=0.05, y=0.45);\n",
    "    ax[2].set_ylim(0, 0.8);\n",
    "    ax[2].yaxis.tick_right()\n",
    "    \n",
    "    # footer\n",
    "    ax[2].add_line(lines.Line2D([0.125, 0.93], [0.05, 0.05], linewidth=1, color='0.7', clip_on=False, transform=fig.transFigure))\n",
    "    plt.text(0.125, 0.04, 'ActaMachina.com' + '\\n', color='0.6', family='Source Sans Pro', fontsize=14, horizontalalignment='left', verticalalignment='top', transform=plt.gcf().transFigure)"
   ]
  },
  {
   "cell_type": "markdown",
   "metadata": {},
   "source": [
    "Box-Cox transform will help reshape each skewed column so the Machine Learning algorithm can converge faster on a result:"
   ]
  },
  {
   "cell_type": "code",
   "execution_count": 30,
   "metadata": {
    "ExecuteTime": {
     "end_time": "2019-01-03T04:54:08.705636Z",
     "start_time": "2019-01-03T04:54:08.664638Z"
    }
   },
   "outputs": [
    {
     "name": "stdout",
     "output_type": "stream",
     "text": [
      "There are 14 skewed features to Box Cox transform: AgeMissing, Embarked_C, Embarked_Q, Embarked_S, FamilySize, Fare, Parch, Pclass_1, Pclass_2, SibSp, Title_Master, Title_Mrs, Title_Ms, Title_Rare.\n"
     ]
    }
   ],
   "source": [
    "lambda_ = 0.15\n",
    "\n",
    "skewness = pd.DataFrame({'Skew': df.apply(lambda x: skew(x.dropna())).sort_values(ascending=False)})\n",
    "skewed_columns = skewness[abs(skewness) > 0.75].dropna().index\n",
    "\n",
    "print(f\"There are {skewed_columns.shape[0]} skewed features to Box Cox transform: {', '.join(sorted(skewed_columns))}.\")\n",
    "\n",
    "for column in skewed_columns:\n",
    "    df[column] = boxcox1p(df[column], lambda_)"
   ]
  },
  {
   "cell_type": "markdown",
   "metadata": {},
   "source": [
    "## Model"
   ]
  },
  {
   "cell_type": "markdown",
   "metadata": {},
   "source": [
    "We now have everything we need in order to train a RMS Titanic survivor classifier model. In Machine Learning, it is customary to separate the features (X) from the target label that we're trying to predict (y):"
   ]
  },
  {
   "cell_type": "code",
   "execution_count": 31,
   "metadata": {
    "ExecuteTime": {
     "end_time": "2019-01-03T04:54:09.949446Z",
     "start_time": "2019-01-03T04:54:09.946212Z"
    }
   },
   "outputs": [],
   "source": [
    "X = df[:-1].drop('Survived', axis=1)\n",
    "y = df[:-1].Survived.values.ravel()"
   ]
  },
  {
   "cell_type": "markdown",
   "metadata": {},
   "source": [
    "Notice that we have left out the final row which contains Ms. Dorothy Winifred Gibson's manifest. It is important that our model does not include this as it is precisely the piece of information that we are trying to predict. It would be meaningless to create a model that predicts something it already knows in advance.\n",
    "\n",
    "To assess the performance of the model, we further divide X and y into a training set and a test set. For the same reason that we leave out Ms. Dorothy Winifred Gibson's manifest, we fit the model on the training set (`X_train`, `y_train`) and assess it on the test set (`y_test`, `y_train`), which is unseen data.\n",
    "\n",
    "A common ratio for smaller datasets is a 3:1 ratio of training data to test data. For bigger datasets, a smaller proportion of test data is often used. Since this is a smaller dataset, out of 891 total rows, 668 rows are assigned to the training set and the remaining 223 rows form the test set."
   ]
  },
  {
   "cell_type": "code",
   "execution_count": 32,
   "metadata": {
    "ExecuteTime": {
     "end_time": "2019-01-03T04:54:10.504121Z",
     "start_time": "2019-01-03T04:54:10.501486Z"
    }
   },
   "outputs": [],
   "source": [
    "X_train, X_test, y_train, y_test = train_test_split(X, y)"
   ]
  },
  {
   "cell_type": "markdown",
   "metadata": {},
   "source": [
    "To know why we need to separate data into training and test sets, we need to understand that the Machine Learning model is trying to fit the training data as closely as possible.\n",
    "\n",
    "- If the model doesn't fit the training data closely enough (underfitting), the model is unlikely to be useful at all. So a model that underfits will have low accuracy on both the train and test sets. To fix this, we need to improve the model by increasing model complexity, e.g. through engineering better features, improved imputing of missing values, tuning model parameters and even switching models completely.\n",
    "\n",
    "- If the model fits the training data too closely (overfitting), the model is unlikely to be useful on data it hasn't seen before, e.g. the test set. So a model that overfits will have much lower accuracy on the test set than the training set. To fix this, we can: (i) train with more data, (ii) have the model only use the more important features and (iii) favour simpler models over more complex models."
   ]
  },
  {
   "cell_type": "code",
   "execution_count": 33,
   "metadata": {
    "ExecuteTime": {
     "end_time": "2019-01-03T04:54:10.626204Z",
     "start_time": "2019-01-03T04:54:10.623169Z"
    },
    "tags": [
     "ignore-input"
    ]
   },
   "outputs": [
    {
     "data": {
      "image/png": "[encoded data removed]",
      "text/plain": [
       "<IPython.core.display.Image object>"
      ]
     },
     "execution_count": 33,
     "metadata": {},
     "output_type": "execute_result"
    }
   ],
   "source": [
    "Image('figures/02-overfitting-underfitting.png')"
   ]
  },
  {
   "cell_type": "markdown",
   "metadata": {
    "ExecuteTime": {
     "end_time": "2018-11-30T01:37:59.722096Z",
     "start_time": "2018-11-30T01:37:59.705718Z"
    }
   },
   "source": [
    "The type of classifier we will use is the Random Forest Classifier. It creates a decision tree based on the features in `X` (details below). We fit the model with the training set and then we score it with the test set:"
   ]
  },
  {
   "cell_type": "code",
   "execution_count": 58,
   "metadata": {
    "ExecuteTime": {
     "end_time": "2019-01-03T04:57:07.602108Z",
     "start_time": "2019-01-03T04:57:07.587791Z"
    }
   },
   "outputs": [
    {
     "name": "stdout",
     "output_type": "stream",
     "text": [
      "Train Accuracy: 98.952%\n"
     ]
    }
   ],
   "source": [
    "model = RandomForestClassifier(n_estimators=10, bootstrap=False)\n",
    "model.fit(X_train, y_train)\n",
    "print(f'Train Accuracy: {model.score(X_train, y_train)*100:.3f}%')"
   ]
  },
  {
   "cell_type": "code",
   "execution_count": 59,
   "metadata": {
    "ExecuteTime": {
     "end_time": "2019-01-03T04:57:09.612488Z",
     "start_time": "2019-01-03T04:57:09.609110Z"
    }
   },
   "outputs": [
    {
     "name": "stdout",
     "output_type": "stream",
     "text": [
      "Test Accuracy: 80.717%\n"
     ]
    }
   ],
   "source": [
    "print(f'Test Accuracy: {model.score(X_test, y_test)*100:.3f}%')"
   ]
  },
  {
   "cell_type": "markdown",
   "metadata": {},
   "source": [
    "The score is the proportion of correctly labelled predictions. We see that we got 80.717% of the labels correct. Not bad! Looking at the discrepancy between the train and test accuracies, it does seem that our model overfit the training data."
   ]
  },
  {
   "cell_type": "markdown",
   "metadata": {},
   "source": [
    "To get an idea of how the random forest classifier works, here are the first 3 layers of our model:"
   ]
  },
  {
   "cell_type": "code",
   "execution_count": 36,
   "metadata": {
    "ExecuteTime": {
     "end_time": "2019-01-03T04:54:10.917768Z",
     "start_time": "2019-01-03T04:54:10.850869Z"
    },
    "scrolled": false,
    "tags": [
     "ignore-input"
    ]
   },
   "outputs": [
    {
     "data": {
      "image/png": "[encoded data removed]",
      "text/plain": [
       "<IPython.core.display.Image object>"
      ]
     },
     "execution_count": 36,
     "metadata": {},
     "output_type": "execute_result"
    }
   ],
   "source": [
    "import pydotplus\n",
    "\n",
    "dot_data = export_graphviz(model.estimators_[0],\n",
    "                           feature_names=X.columns,\n",
    "                           out_file=None,\n",
    "                           filled=True,\n",
    "                           rounded=False,\n",
    "                           impurity=False,\n",
    "                           max_depth=1)\n",
    "\n",
    "graph = pydotplus.graph_from_dot_data(dot_data)\n",
    "graph.set_bgcolor('#f0f4f7')\n",
    "graph.set_fontname('Source Sans Pro')\n",
    "graph.set_pad(0.2)\n",
    "\n",
    "nodes = graph.get_node_list()\n",
    "for node in nodes:\n",
    "    node.set_fillcolor('#ffc018')\n",
    "    node.set_penwidth(0)\n",
    "    node.set_fontname('Source Sans Pro')\n",
    "    node.set_fontsize(12)\n",
    "    node.set_margin(0.125)\n",
    "    \n",
    "edges = graph.get_edge_list()\n",
    "for edge in edges:\n",
    "    edge.set_color('#888888')\n",
    "    edge.set_fontname('Source Sans Pro Italic')\n",
    "    edge.set_fontsize(12)\n",
    "    \n",
    "graph.write_png('figures/03-decision-tree.png')\n",
    "Image('figures/03-decision-tree.png')"
   ]
  },
  {
   "cell_type": "markdown",
   "metadata": {},
   "source": [
    "A trained random forest classifer produces a decision tree, where: (i) each node contains a test on a feature; (ii) each branch is an outcome of the test; and (iii) each leaf is a class.\n",
    "\n",
    "Looking at the text inside the top, root node:\n",
    "- `PClass_1 <= 0.365` is the test condition used to split up the samples into the child nodes: true on the left and false on the right;\n",
    "- `samples = 668`  is the number of samples at the current step (since this is the root node, it contains all 668 samples in `X_train` that were used to train the model); and\n",
    "- `value = [417, 251]` is the [False, True] split of the samples.\n",
    "\n",
    "A random forest is trained by combining multiple decision trees using majority voting, with each decision tree generated using a random subset of features."
   ]
  },
  {
   "cell_type": "markdown",
   "metadata": {},
   "source": [
    "Now, let's use the model to predict whether Ms. Dorothy Winifred Gibson survived:"
   ]
  },
  {
   "cell_type": "code",
   "execution_count": 115,
   "metadata": {
    "ExecuteTime": {
     "end_time": "2018-12-10T17:05:02.549661Z",
     "start_time": "2018-12-10T17:05:02.541171Z"
    }
   },
   "outputs": [
    {
     "data": {
      "text/plain": [
       "array([ True])"
      ]
     },
     "execution_count": 115,
     "metadata": {},
     "output_type": "execute_result"
    }
   ],
   "source": [
    "model.predict(df.drop('Survived', axis=1).tail(1))"
   ]
  },
  {
   "cell_type": "markdown",
   "metadata": {},
   "source": [
    "Our model predict that she survived! In fact, not only did she survive, but Ms. Dorothy Winifred Gibson was a silent film actress who starred in the first motion picture based on the RMS Titantic disaster. "
   ]
  },
  {
   "cell_type": "markdown",
   "metadata": {},
   "source": [
    "## Summary and Next Steps"
   ]
  },
  {
   "cell_type": "markdown",
   "metadata": {},
   "source": [
    "In this post, you've learnt how to:\n",
    "- engineer new features;\n",
    "- impute missing data;\n",
    "- one-hot encode categorical features; and\n",
    "- train and evaluate a model.\n",
    "\n",
    "You can now train your own model! If you want, you can try it on the [Iris flower data set](https://archive.ics.uci.edu/ml/datasets/iris). The dataset contains 50 samples  from each of 3 species of Iris, with 4 features recorded in each sample: the length and with of the sepals and petals.\n",
    "\n",
    "The type of Machine Learning algorithm you've used is called Supervised Learning since you are given a set of correctly mapped inputs (the passenger manifest) and outputs (whether they survived or not). More specifically, this is classification because we classify them into classes (survivors and non-survivors). The other type of supervised learning is regression (predicting a quantity rather than a class), and will be covered in the next post where we look at predicting house prices in Ames, Iowa."
   ]
  },
  {
   "cell_type": "markdown",
   "metadata": {},
   "source": [
    "## Acknowledgements"
   ]
  },
  {
   "cell_type": "markdown",
   "metadata": {},
   "source": [
    "This post has been inspired by posts from:\n",
    "\n",
    "- [Kaggle Getting Started Prediction Competition](https://www.kaggle.com/c/titanic)\n",
    "- [Introduction to Ensembling/Stacking in Python by Arthur Tok](https://www.kaggle.com/arthurtok/introduction-to-ensembling-stacking-in-python)\n",
    "- [Titanic Data Science Solutions by Manav Sehgal](https://www.kaggle.com/startupsci/titanic-data-science-solutions)"
   ]
  },
  {
   "cell_type": "markdown",
   "metadata": {
    "tags": [
     "ignore"
    ]
   },
   "source": [
    "## Notes"
   ]
  },
  {
   "cell_type": "markdown",
   "metadata": {
    "tags": [
     "ignore"
    ]
   },
   "source": [
    "There are three broad types of Machine Learning:\n",
    "- Supervised Learning is where you are given a set of correctly mapped inputs (the passenger manifest) and outputs (whether they survived or not);\n",
    "- Unsupervised Learning is when you are only given inputs and tasked to find interesting attributes of the dataset, such as clusters or outliers; and\n",
    "- Reinforcement Learning is where an agent interacts with an environment and changes its action based on rewards."
   ]
  }
 ],
 "metadata": {
  "celltoolbar": "Tags",
  "kernelspec": {
   "display_name": "Python 3",
   "language": "python",
   "name": "python3"
  },
  "language_info": {
   "codemirror_mode": {
    "name": "ipython",
    "version": 3
   },
   "file_extension": ".py",
   "mimetype": "text/x-python",
   "name": "python",
   "nbconvert_exporter": "python",
   "pygments_lexer": "ipython3",
   "version": "3.6.5"
  },
  "varInspector": {
   "cols": {
    "lenName": 16,
    "lenType": 16,
    "lenVar": 40
   },
   "kernels_config": {
    "python": {
     "delete_cmd_postfix": "",
     "delete_cmd_prefix": "del ",
     "library": "var_list.py",
     "varRefreshCmd": "print(var_dic_list())"
    },
    "r": {
     "delete_cmd_postfix": ") ",
     "delete_cmd_prefix": "rm(",
     "library": "var_list.r",
     "varRefreshCmd": "cat(var_dic_list()) "
    }
   },
   "types_to_exclude": [
    "module",
    "function",
    "builtin_function_or_method",
    "instance",
    "_Feature"
   ],
   "window_display": false
  }
 },
 "nbformat": 4,
 "nbformat_minor": 2
}
