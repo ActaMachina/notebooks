{
 "cells": [
  {
   "cell_type": "markdown",
   "metadata": {
    "tags": [
     "ignore"
    ]
   },
   "source": [
    "# Learning Pandas with Pokémon"
   ]
  },
  {
   "cell_type": "markdown",
   "metadata": {
    "ExecuteTime": {
     "end_time": "2018-11-16T17:30:13.627255Z",
     "start_time": "2018-11-16T17:30:13.624818Z"
    },
    "tags": [
     "ignore"
    ]
   },
   "source": [
    "*Data analysis and manipulation using the Pokémon dataset.*"
   ]
  },
  {
   "cell_type": "markdown",
   "metadata": {},
   "source": [
    "This first post on Acta Machina will introduce you to Pandas, a Python package that forms the backbone of the data scientist and machine learning engineer's toolkit. Pandas lets you manipulate and analyse data. You can think of it as an advanced, command-based version of Microsoft Excel. Having a solid understanding of Pandas will allow you to read future posts with greater ease.\n",
    "\n",
    "In this post, you'll learn how to:\n",
    "- create DataFrames (the equivalent of a spreadsheet);\n",
    "- select data from DataFrames;\n",
    "- group data and make meaningful aggregations; and\n",
    "- plot the data.\n",
    "\n",
    "By the end, you'll learn how to create a plot visualising the combat power of legendary Pokémon across different generations:"
   ]
  },
  {
   "cell_type": "code",
   "execution_count": 161,
   "metadata": {
    "ExecuteTime": {
     "end_time": "2018-12-06T09:10:13.502300Z",
     "start_time": "2018-12-06T09:10:13.374423Z"
    },
    "scrolled": true,
    "tags": [
     "ignore-input"
    ]
   },
   "outputs": [
    {
     "data": {
      "image/png": "[encoded data removed]",
      "text/plain": [
       "<Figure size 576x432 with 1 Axes>"
      ]
     },
     "metadata": {},
     "output_type": "display_data"
    }
   ],
   "source": [
    "with plt.style.context(('plot.mplstyle')):\n",
    "    fig, ax = plt.subplots()\n",
    "    average_max_cp_by_generation.plot.bar(\n",
    "        figsize=(8, 6),\n",
    "        ylim=(3200, 3500),\n",
    "        fontsize=16,\n",
    "        color='#ffc018',\n",
    "    );\n",
    "    \n",
    "    plt.text(0.125, 1, '\\n' + 'Pokémon Max Combat Power', family='Source Sans Pro', fontsize=21, fontweight='bold', transform=plt.gcf().transFigure)\n",
    "    plt.text(0.125, 0.94, 'Average Max Combat Power', family='Source Sans Pro', fontsize=16, transform=plt.gcf().transFigure)\n",
    "    plt.text(0.95, 0.5, '\\n', transform=plt.gcf().transFigure)\n",
    "    plt.text(0.1, 0.5, '\\n', transform=plt.gcf().transFigure)\n",
    "    plt.xlabel('' + 'Generation' + '\\n\\n', color='0.6', family='Source Sans Pro', fontsize=16, fontstyle='italic')\n",
    "    plt.tick_params(labelsize=14)\n",
    "    ax.yaxis.tick_right()\n",
    "\n",
    "    # footer\n",
    "    ax.add_line(lines.Line2D([0.125, 0.94], [0.01, 0.01], linewidth=1, color='0.7', clip_on=False, transform=fig.transFigure))\n",
    "    plt.text(0.125, 0, 'ActaMachina.com' + '\\n', color='0.6', family='Source Sans Pro', fontsize=14, horizontalalignment='left', verticalalignment='top', transform=plt.gcf().transFigure)\n",
    "    plt.text(0.94, 0, 'Source: GamePress' + '\\n', color='0.6', family='Source Sans Pro', fontsize=14, horizontalalignment='right', verticalalignment='top', transform=plt.gcf().transFigure)"
   ]
  },
  {
   "cell_type": "markdown",
   "metadata": {},
   "source": [
    "This [notebook is available on GitHub](https://github.com/ActaMachina/notebooks/blob/master/01-pokemon.ipynb) and the [data is hosted on Amazon CloudFront](/data/01-pokemon.zip)."
   ]
  },
  {
   "cell_type": "markdown",
   "metadata": {
    "ExecuteTime": {
     "end_time": "2018-11-16T17:29:12.316287Z",
     "start_time": "2018-11-16T17:29:12.311040Z"
    },
    "tags": [
     "ignore"
    ]
   },
   "source": [
    "## Preamble"
   ]
  },
  {
   "cell_type": "code",
   "execution_count": 137,
   "metadata": {
    "ExecuteTime": {
     "end_time": "2018-12-06T07:35:09.110976Z",
     "start_time": "2018-12-06T07:35:09.104235Z"
    },
    "tags": [
     "ignore"
    ]
   },
   "outputs": [],
   "source": [
    "from IPython.display import HTML\n",
    "from matplotlib import lines\n",
    "\n",
    "import matplotlib.pyplot as plt\n",
    "\n",
    "pd.set_option('display.max_rows', 5)\n",
    "\n",
    "def display_(df):\n",
    "    current_max_colwidth = pd.get_option('display.max_colwidth')\n",
    "    pd.set_option('display.max_colwidth', -1)\n",
    "    \n",
    "    df = df.copy()\n",
    "    df['image'] = ('<img src=\"data/pokemon/icons/pokemon_icon_' +\n",
    "                   df.index.astype(str).str.pad(3, fillchar='0') +\n",
    "                   np.where(df.index.isin([201, 327, 351, 386, 487, 492]), '_11.png\"/>', '_00.png\"/>'))\n",
    "    \n",
    "    html = HTML(df.to_html(escape=False, max_rows=pd.get_option('display.max_rows')))\n",
    "    df.drop('image', axis=1, inplace=True)\n",
    "    pd.set_option('display.max_colwidth', current_max_colwidth)\n",
    "    \n",
    "    return html"
   ]
  },
  {
   "cell_type": "markdown",
   "metadata": {},
   "source": [
    "## Getting Started"
   ]
  },
  {
   "cell_type": "markdown",
   "metadata": {},
   "source": [
    "Import Pandas to get started:"
   ]
  },
  {
   "cell_type": "code",
   "execution_count": 3,
   "metadata": {
    "ExecuteTime": {
     "end_time": "2018-12-06T05:33:05.856733Z",
     "start_time": "2018-12-06T05:33:05.854957Z"
    }
   },
   "outputs": [],
   "source": [
    "import pandas as pd"
   ]
  },
  {
   "cell_type": "markdown",
   "metadata": {},
   "source": [
    "To create a DataFrame, use a list of dictionaries, with the names of the columns as keys:"
   ]
  },
  {
   "cell_type": "code",
   "execution_count": 4,
   "metadata": {
    "ExecuteTime": {
     "end_time": "2018-12-06T05:33:05.923857Z",
     "start_time": "2018-12-06T05:33:05.920519Z"
    }
   },
   "outputs": [],
   "source": [
    "df = pd.DataFrame([{'id': 1, 'name': 'Bulbasaur'},\n",
    "                   {'id': 2, 'name': 'Ivysaur'},\n",
    "                   {'id': 3, 'name': 'Venusaur'}])"
   ]
  },
  {
   "cell_type": "markdown",
   "metadata": {},
   "source": [
    "Just putting the variable on its own line will display the DataFrame:"
   ]
  },
  {
   "cell_type": "code",
   "execution_count": 5,
   "metadata": {
    "ExecuteTime": {
     "end_time": "2018-12-06T05:33:06.014933Z",
     "start_time": "2018-12-06T05:33:06.008678Z"
    }
   },
   "outputs": [
    {
     "data": {
      "text/html": [
       "<div>\n",
       "<style scoped>\n",
       "    .dataframe tbody tr th:only-of-type {\n",
       "        vertical-align: middle;\n",
       "    }\n",
       "\n",
       "    .dataframe tbody tr th {\n",
       "        vertical-align: top;\n",
       "    }\n",
       "\n",
       "    .dataframe thead th {\n",
       "        text-align: right;\n",
       "    }\n",
       "</style>\n",
       "<table border=\"1\" class=\"dataframe\">\n",
       "  <thead>\n",
       "    <tr style=\"text-align: right;\">\n",
       "      <th></th>\n",
       "      <th>id</th>\n",
       "      <th>name</th>\n",
       "    </tr>\n",
       "  </thead>\n",
       "  <tbody>\n",
       "    <tr>\n",
       "      <th>0</th>\n",
       "      <td>1</td>\n",
       "      <td>Bulbasaur</td>\n",
       "    </tr>\n",
       "    <tr>\n",
       "      <th>1</th>\n",
       "      <td>2</td>\n",
       "      <td>Ivysaur</td>\n",
       "    </tr>\n",
       "    <tr>\n",
       "      <th>2</th>\n",
       "      <td>3</td>\n",
       "      <td>Venusaur</td>\n",
       "    </tr>\n",
       "  </tbody>\n",
       "</table>\n",
       "</div>"
      ],
      "text/plain": [
       "   id       name\n",
       "0   1  Bulbasaur\n",
       "1   2    Ivysaur\n",
       "2   3   Venusaur"
      ]
     },
     "execution_count": 5,
     "metadata": {},
     "output_type": "execute_result"
    }
   ],
   "source": [
    "df"
   ]
  },
  {
   "cell_type": "markdown",
   "metadata": {},
   "source": [
    "To retrieve the values of a column (called a data series), you can use the column name as a key:"
   ]
  },
  {
   "cell_type": "code",
   "execution_count": 6,
   "metadata": {
    "ExecuteTime": {
     "end_time": "2018-12-06T05:33:06.076945Z",
     "start_time": "2018-12-06T05:33:06.073619Z"
    }
   },
   "outputs": [
    {
     "data": {
      "text/plain": [
       "0    Bulbasaur\n",
       "1      Ivysaur\n",
       "2     Venusaur\n",
       "Name: name, dtype: object"
      ]
     },
     "execution_count": 6,
     "metadata": {},
     "output_type": "execute_result"
    }
   ],
   "source": [
    "df['name']  # or df.name"
   ]
  },
  {
   "cell_type": "markdown",
   "metadata": {},
   "source": [
    "Get the rows of a DataFrame by using the indices to slice a DataFrame:"
   ]
  },
  {
   "cell_type": "code",
   "execution_count": 7,
   "metadata": {
    "ExecuteTime": {
     "end_time": "2018-12-06T05:33:06.165259Z",
     "start_time": "2018-12-06T05:33:06.160730Z"
    }
   },
   "outputs": [
    {
     "data": {
      "text/html": [
       "<div>\n",
       "<style scoped>\n",
       "    .dataframe tbody tr th:only-of-type {\n",
       "        vertical-align: middle;\n",
       "    }\n",
       "\n",
       "    .dataframe tbody tr th {\n",
       "        vertical-align: top;\n",
       "    }\n",
       "\n",
       "    .dataframe thead th {\n",
       "        text-align: right;\n",
       "    }\n",
       "</style>\n",
       "<table border=\"1\" class=\"dataframe\">\n",
       "  <thead>\n",
       "    <tr style=\"text-align: right;\">\n",
       "      <th></th>\n",
       "      <th>id</th>\n",
       "      <th>name</th>\n",
       "    </tr>\n",
       "  </thead>\n",
       "  <tbody>\n",
       "    <tr>\n",
       "      <th>0</th>\n",
       "      <td>1</td>\n",
       "      <td>Bulbasaur</td>\n",
       "    </tr>\n",
       "    <tr>\n",
       "      <th>1</th>\n",
       "      <td>2</td>\n",
       "      <td>Ivysaur</td>\n",
       "    </tr>\n",
       "  </tbody>\n",
       "</table>\n",
       "</div>"
      ],
      "text/plain": [
       "   id       name\n",
       "0   1  Bulbasaur\n",
       "1   2    Ivysaur"
      ]
     },
     "execution_count": 7,
     "metadata": {},
     "output_type": "execute_result"
    }
   ],
   "source": [
    "df[0:2]"
   ]
  },
  {
   "cell_type": "markdown",
   "metadata": {},
   "source": [
    "To make it easier to reference a specific row, set the index of the DataFrame to one of its columns:"
   ]
  },
  {
   "cell_type": "code",
   "execution_count": 8,
   "metadata": {
    "ExecuteTime": {
     "end_time": "2018-12-06T05:33:06.230958Z",
     "start_time": "2018-12-06T05:33:06.225980Z"
    }
   },
   "outputs": [
    {
     "data": {
      "text/html": [
       "<div>\n",
       "<style scoped>\n",
       "    .dataframe tbody tr th:only-of-type {\n",
       "        vertical-align: middle;\n",
       "    }\n",
       "\n",
       "    .dataframe tbody tr th {\n",
       "        vertical-align: top;\n",
       "    }\n",
       "\n",
       "    .dataframe thead th {\n",
       "        text-align: right;\n",
       "    }\n",
       "</style>\n",
       "<table border=\"1\" class=\"dataframe\">\n",
       "  <thead>\n",
       "    <tr style=\"text-align: right;\">\n",
       "      <th></th>\n",
       "      <th>name</th>\n",
       "    </tr>\n",
       "    <tr>\n",
       "      <th>id</th>\n",
       "      <th></th>\n",
       "    </tr>\n",
       "  </thead>\n",
       "  <tbody>\n",
       "    <tr>\n",
       "      <th>1</th>\n",
       "      <td>Bulbasaur</td>\n",
       "    </tr>\n",
       "    <tr>\n",
       "      <th>2</th>\n",
       "      <td>Ivysaur</td>\n",
       "    </tr>\n",
       "    <tr>\n",
       "      <th>3</th>\n",
       "      <td>Venusaur</td>\n",
       "    </tr>\n",
       "  </tbody>\n",
       "</table>\n",
       "</div>"
      ],
      "text/plain": [
       "         name\n",
       "id           \n",
       "1   Bulbasaur\n",
       "2     Ivysaur\n",
       "3    Venusaur"
      ]
     },
     "execution_count": 8,
     "metadata": {},
     "output_type": "execute_result"
    }
   ],
   "source": [
    "df = df.set_index('id')\n",
    "df"
   ]
  },
  {
   "cell_type": "markdown",
   "metadata": {},
   "source": [
    "Now, to retrieve a specific row using the index, we can write:"
   ]
  },
  {
   "cell_type": "code",
   "execution_count": 9,
   "metadata": {
    "ExecuteTime": {
     "end_time": "2018-12-06T05:33:06.299675Z",
     "start_time": "2018-12-06T05:33:06.295015Z"
    }
   },
   "outputs": [
    {
     "data": {
      "text/html": [
       "<div>\n",
       "<style scoped>\n",
       "    .dataframe tbody tr th:only-of-type {\n",
       "        vertical-align: middle;\n",
       "    }\n",
       "\n",
       "    .dataframe tbody tr th {\n",
       "        vertical-align: top;\n",
       "    }\n",
       "\n",
       "    .dataframe thead th {\n",
       "        text-align: right;\n",
       "    }\n",
       "</style>\n",
       "<table border=\"1\" class=\"dataframe\">\n",
       "  <thead>\n",
       "    <tr style=\"text-align: right;\">\n",
       "      <th></th>\n",
       "      <th>name</th>\n",
       "    </tr>\n",
       "    <tr>\n",
       "      <th>id</th>\n",
       "      <th></th>\n",
       "    </tr>\n",
       "  </thead>\n",
       "  <tbody>\n",
       "    <tr>\n",
       "      <th>1</th>\n",
       "      <td>Bulbasaur</td>\n",
       "    </tr>\n",
       "  </tbody>\n",
       "</table>\n",
       "</div>"
      ],
      "text/plain": [
       "         name\n",
       "id           \n",
       "1   Bulbasaur"
      ]
     },
     "execution_count": 9,
     "metadata": {},
     "output_type": "execute_result"
    }
   ],
   "source": [
    "df[df.index == 1]"
   ]
  },
  {
   "cell_type": "markdown",
   "metadata": {},
   "source": [
    "## Importing Entries from the Pokédex"
   ]
  },
  {
   "cell_type": "markdown",
   "metadata": {},
   "source": [
    "Let's load a longer list of Pokémon from a `csv` file (obtained from the [GamePress Pokémon List](https://pokemongo.gamepress.gg/pokemon-list)), setting the index to the `id` column:"
   ]
  },
  {
   "cell_type": "code",
   "execution_count": 10,
   "metadata": {
    "ExecuteTime": {
     "end_time": "2018-12-06T05:33:06.386180Z",
     "start_time": "2018-12-06T05:33:06.380960Z"
    }
   },
   "outputs": [],
   "source": [
    "df_pokemon = pd.read_csv('data/pokemon/pokedex.csv', index_col='id')"
   ]
  },
  {
   "cell_type": "markdown",
   "metadata": {},
   "source": [
    "Let's have a look at Pokémon #1 to see what additional columns are in the file:"
   ]
  },
  {
   "cell_type": "code",
   "execution_count": 11,
   "metadata": {
    "ExecuteTime": {
     "end_time": "2018-12-06T05:33:06.455860Z",
     "start_time": "2018-12-06T05:33:06.448905Z"
    }
   },
   "outputs": [
    {
     "data": {
      "text/html": [
       "<table border=\"1\" class=\"dataframe\">\n",
       "  <thead>\n",
       "    <tr style=\"text-align: right;\">\n",
       "      <th></th>\n",
       "      <th>name</th>\n",
       "      <th>type1</th>\n",
       "      <th>type2</th>\n",
       "      <th>height</th>\n",
       "      <th>weight</th>\n",
       "      <th>max_cp</th>\n",
       "      <th>generation</th>\n",
       "      <th>legendary</th>\n",
       "      <th>image</th>\n",
       "    </tr>\n",
       "    <tr>\n",
       "      <th>id</th>\n",
       "      <th></th>\n",
       "      <th></th>\n",
       "      <th></th>\n",
       "      <th></th>\n",
       "      <th></th>\n",
       "      <th></th>\n",
       "      <th></th>\n",
       "      <th></th>\n",
       "      <th></th>\n",
       "    </tr>\n",
       "  </thead>\n",
       "  <tbody>\n",
       "    <tr>\n",
       "      <th>1</th>\n",
       "      <td>Bulbasaur</td>\n",
       "      <td>Grass</td>\n",
       "      <td>Poison</td>\n",
       "      <td>0.7</td>\n",
       "      <td>6.9</td>\n",
       "      <td>981</td>\n",
       "      <td>1</td>\n",
       "      <td>False</td>\n",
       "      <td><img src=\"data/pokemon/icons/pokemon_icon_001_00.png\"/></td>\n",
       "    </tr>\n",
       "  </tbody>\n",
       "</table>"
      ],
      "text/plain": [
       "<IPython.core.display.HTML object>"
      ]
     },
     "execution_count": 11,
     "metadata": {},
     "output_type": "execute_result"
    }
   ],
   "source": [
    "display_(df_pokemon[df_pokemon.index == 1])"
   ]
  },
  {
   "cell_type": "markdown",
   "metadata": {},
   "source": [
    "Looks like Bulbasaur is a Grass/Poison type Pokémon!"
   ]
  },
  {
   "cell_type": "markdown",
   "metadata": {},
   "source": [
    "All Pokémon have either one or two types. A Pokémon's type makes it a stronger attacker against some types but weaker against others. E.g. A water-type Pokémon (like Squirtle) has 2 x damage against fire-type Pokémon but only 0.5 x damage against Electric Pokémon.\n",
    "\n",
    "Let's pull up all the Pokémon that have Grass as either `type1` or `type2`."
   ]
  },
  {
   "cell_type": "code",
   "execution_count": 12,
   "metadata": {
    "ExecuteTime": {
     "end_time": "2018-12-06T05:33:06.540779Z",
     "start_time": "2018-12-06T05:33:06.530661Z"
    }
   },
   "outputs": [
    {
     "data": {
      "text/html": [
       "<table border=\"1\" class=\"dataframe\">\n",
       "  <thead>\n",
       "    <tr style=\"text-align: right;\">\n",
       "      <th></th>\n",
       "      <th>name</th>\n",
       "      <th>type1</th>\n",
       "      <th>type2</th>\n",
       "      <th>height</th>\n",
       "      <th>weight</th>\n",
       "      <th>max_cp</th>\n",
       "      <th>generation</th>\n",
       "      <th>legendary</th>\n",
       "      <th>image</th>\n",
       "    </tr>\n",
       "    <tr>\n",
       "      <th>id</th>\n",
       "      <th></th>\n",
       "      <th></th>\n",
       "      <th></th>\n",
       "      <th></th>\n",
       "      <th></th>\n",
       "      <th></th>\n",
       "      <th></th>\n",
       "      <th></th>\n",
       "      <th></th>\n",
       "    </tr>\n",
       "  </thead>\n",
       "  <tbody>\n",
       "    <tr>\n",
       "      <th>1</th>\n",
       "      <td>Bulbasaur</td>\n",
       "      <td>Grass</td>\n",
       "      <td>Poison</td>\n",
       "      <td>0.7</td>\n",
       "      <td>6.9</td>\n",
       "      <td>981</td>\n",
       "      <td>1</td>\n",
       "      <td>False</td>\n",
       "      <td><img src=\"data/pokemon/icons/pokemon_icon_001_00.png\"/></td>\n",
       "    </tr>\n",
       "    <tr>\n",
       "      <th>2</th>\n",
       "      <td>Ivysaur</td>\n",
       "      <td>Grass</td>\n",
       "      <td>Poison</td>\n",
       "      <td>1.0</td>\n",
       "      <td>13.0</td>\n",
       "      <td>1552</td>\n",
       "      <td>1</td>\n",
       "      <td>False</td>\n",
       "      <td><img src=\"data/pokemon/icons/pokemon_icon_002_00.png\"/></td>\n",
       "    </tr>\n",
       "    <tr>\n",
       "      <th>...</th>\n",
       "      <td>...</td>\n",
       "      <td>...</td>\n",
       "      <td>...</td>\n",
       "      <td>...</td>\n",
       "      <td>...</td>\n",
       "      <td>...</td>\n",
       "      <td>...</td>\n",
       "      <td>...</td>\n",
       "      <td>...</td>\n",
       "    </tr>\n",
       "    <tr>\n",
       "      <th>470</th>\n",
       "      <td>Leafeon</td>\n",
       "      <td>Grass</td>\n",
       "      <td>NaN</td>\n",
       "      <td>1.0</td>\n",
       "      <td>25.5</td>\n",
       "      <td>2944</td>\n",
       "      <td>4</td>\n",
       "      <td>False</td>\n",
       "      <td><img src=\"data/pokemon/icons/pokemon_icon_470_00.png\"/></td>\n",
       "    </tr>\n",
       "    <tr>\n",
       "      <th>492</th>\n",
       "      <td>Shaymin</td>\n",
       "      <td>Grass</td>\n",
       "      <td>NaN</td>\n",
       "      <td>0.2</td>\n",
       "      <td>2.1</td>\n",
       "      <td>3265</td>\n",
       "      <td>4</td>\n",
       "      <td>False</td>\n",
       "      <td><img src=\"data/pokemon/icons/pokemon_icon_492_11.png\"/></td>\n",
       "    </tr>\n",
       "  </tbody>\n",
       "</table>"
      ],
      "text/plain": [
       "<IPython.core.display.HTML object>"
      ]
     },
     "execution_count": 12,
     "metadata": {},
     "output_type": "execute_result"
    }
   ],
   "source": [
    "display_(df_pokemon[(df_pokemon.type1 == 'Grass') | (df_pokemon.type2 == 'Grass')])"
   ]
  },
  {
   "cell_type": "markdown",
   "metadata": {
    "ExecuteTime": {
     "end_time": "2018-11-01T15:57:26.866063Z",
     "start_time": "2018-11-01T15:57:26.863879Z"
    }
   },
   "source": [
    "How powerful are Grass-type Pokémon?\n",
    "\n",
    "To answer this question we need to briefly delve into the Pokémon game mechanics. Combat Power (CP) is a measure of the strength of a Pokémon when battling another Pokémon. This is dependent on two things: (i) the Pokémon's Level; and (ii) its Individual Values (IVs). While a Pokémon's Level can change by incrementally powering it up, a Pokémon's IVs are three fixed values (each ranging from 1-15) that cannot be changed. Therefore the maximum combat power (or `max_cp`) of a Pokémon can be obtained only when it is fully powered up and when it has a perfect set of 15/15/15 IVs.\n",
    "\n",
    "To find out how powerful Grass-type Pokémon are on average, we can calculate their average maximum combat power (or `max_cp`)."
   ]
  },
  {
   "cell_type": "code",
   "execution_count": 13,
   "metadata": {
    "ExecuteTime": {
     "end_time": "2018-12-06T05:33:06.598390Z",
     "start_time": "2018-12-06T05:33:06.593310Z"
    }
   },
   "outputs": [
    {
     "data": {
      "text/plain": [
       "1702.0363636363636"
      ]
     },
     "execution_count": 13,
     "metadata": {},
     "output_type": "execute_result"
    }
   ],
   "source": [
    "df_pokemon[(df_pokemon.type1 == 'Grass') | (df_pokemon.type2 == 'Grass')].max_cp.mean()"
   ]
  },
  {
   "cell_type": "markdown",
   "metadata": {
    "ExecuteTime": {
     "end_time": "2018-11-02T02:18:45.460762Z",
     "start_time": "2018-11-02T02:18:45.458341Z"
    }
   },
   "source": [
    "This seems high, but how does it compare to Poison-type Pokémon?"
   ]
  },
  {
   "cell_type": "code",
   "execution_count": 14,
   "metadata": {
    "ExecuteTime": {
     "end_time": "2018-12-06T05:33:06.659934Z",
     "start_time": "2018-12-06T05:33:06.656157Z"
    }
   },
   "outputs": [
    {
     "data": {
      "text/plain": [
       "1559.54"
      ]
     },
     "execution_count": 14,
     "metadata": {},
     "output_type": "execute_result"
    }
   ],
   "source": [
    "df_pokemon[(df_pokemon.type1 == 'Poison') | (df_pokemon.type2 == 'Poison')].max_cp.mean()"
   ]
  },
  {
   "cell_type": "markdown",
   "metadata": {},
   "source": [
    "Looks like Grass-type have Poison-type Pokémon beat!"
   ]
  },
  {
   "cell_type": "markdown",
   "metadata": {},
   "source": [
    "Now this has me wondering, what are all the different Pokémon types?"
   ]
  },
  {
   "cell_type": "code",
   "execution_count": 15,
   "metadata": {
    "ExecuteTime": {
     "end_time": "2018-12-06T05:33:06.747555Z",
     "start_time": "2018-12-06T05:33:06.744340Z"
    }
   },
   "outputs": [
    {
     "data": {
      "text/plain": [
       "{'Bug',\n",
       " 'Dark',\n",
       " 'Dragon',\n",
       " 'Electric',\n",
       " 'Fairy',\n",
       " 'Fighting',\n",
       " 'Fire',\n",
       " 'Flying',\n",
       " 'Ghost',\n",
       " 'Grass',\n",
       " 'Ground',\n",
       " 'Ice',\n",
       " 'Normal',\n",
       " 'Poison',\n",
       " 'Psychic',\n",
       " 'Rock',\n",
       " 'Steel',\n",
       " 'Water',\n",
       " nan}"
      ]
     },
     "execution_count": 15,
     "metadata": {},
     "output_type": "execute_result"
    }
   ],
   "source": [
    "set(list(df_pokemon.type1.unique()) +\n",
    "    list(df_pokemon.type2.unique()))"
   ]
  },
  {
   "cell_type": "markdown",
   "metadata": {
    "ExecuteTime": {
     "end_time": "2018-11-02T02:00:51.275557Z",
     "start_time": "2018-11-02T02:00:51.272917Z"
    }
   },
   "source": [
    "If you look closely at the list of Pokémon types, you can see the value `nan` at the end. `NaN` (or `nan`) stands for \"Not a Number\" and is a special placeholder used for when no value can be computed or exists. Pandas uses this not only for numbers but whenever there's a missing value of any type.\n",
    "\n",
    "Some operations can only be performed on a complete dataset with no missing values. In such a case, rows with `NaN`s can be removed using `dropna()` or imputed (meaningfully filled in) using `fillna()`."
   ]
  },
  {
   "cell_type": "markdown",
   "metadata": {
    "ExecuteTime": {
     "end_time": "2018-11-02T02:07:35.778824Z",
     "start_time": "2018-11-02T02:07:35.770521Z"
    }
   },
   "source": [
    "Let's calculate each Pokémon's body mass index (BMI) for fun! We assign it to a new column and call it `bmi`."
   ]
  },
  {
   "cell_type": "code",
   "execution_count": 16,
   "metadata": {
    "ExecuteTime": {
     "end_time": "2018-12-06T05:33:06.857928Z",
     "start_time": "2018-12-06T05:33:06.843887Z"
    }
   },
   "outputs": [
    {
     "data": {
      "text/html": [
       "<table border=\"1\" class=\"dataframe\">\n",
       "  <thead>\n",
       "    <tr style=\"text-align: right;\">\n",
       "      <th></th>\n",
       "      <th>name</th>\n",
       "      <th>type1</th>\n",
       "      <th>type2</th>\n",
       "      <th>height</th>\n",
       "      <th>weight</th>\n",
       "      <th>max_cp</th>\n",
       "      <th>generation</th>\n",
       "      <th>legendary</th>\n",
       "      <th>bmi</th>\n",
       "      <th>image</th>\n",
       "    </tr>\n",
       "    <tr>\n",
       "      <th>id</th>\n",
       "      <th></th>\n",
       "      <th></th>\n",
       "      <th></th>\n",
       "      <th></th>\n",
       "      <th></th>\n",
       "      <th></th>\n",
       "      <th></th>\n",
       "      <th></th>\n",
       "      <th></th>\n",
       "      <th></th>\n",
       "    </tr>\n",
       "  </thead>\n",
       "  <tbody>\n",
       "    <tr>\n",
       "      <th>1</th>\n",
       "      <td>Bulbasaur</td>\n",
       "      <td>Grass</td>\n",
       "      <td>Poison</td>\n",
       "      <td>0.7</td>\n",
       "      <td>6.9</td>\n",
       "      <td>981</td>\n",
       "      <td>1</td>\n",
       "      <td>False</td>\n",
       "      <td>14.081633</td>\n",
       "      <td><img src=\"data/pokemon/icons/pokemon_icon_001_00.png\"/></td>\n",
       "    </tr>\n",
       "    <tr>\n",
       "      <th>2</th>\n",
       "      <td>Ivysaur</td>\n",
       "      <td>Grass</td>\n",
       "      <td>Poison</td>\n",
       "      <td>1.0</td>\n",
       "      <td>13.0</td>\n",
       "      <td>1552</td>\n",
       "      <td>1</td>\n",
       "      <td>False</td>\n",
       "      <td>13.000000</td>\n",
       "      <td><img src=\"data/pokemon/icons/pokemon_icon_002_00.png\"/></td>\n",
       "    </tr>\n",
       "    <tr>\n",
       "      <th>...</th>\n",
       "      <td>...</td>\n",
       "      <td>...</td>\n",
       "      <td>...</td>\n",
       "      <td>...</td>\n",
       "      <td>...</td>\n",
       "      <td>...</td>\n",
       "      <td>...</td>\n",
       "      <td>...</td>\n",
       "      <td>...</td>\n",
       "      <td>...</td>\n",
       "    </tr>\n",
       "    <tr>\n",
       "      <th>491</th>\n",
       "      <td>Darkrai</td>\n",
       "      <td>Dark</td>\n",
       "      <td>NaN</td>\n",
       "      <td>1.5</td>\n",
       "      <td>50.5</td>\n",
       "      <td>3739</td>\n",
       "      <td>4</td>\n",
       "      <td>False</td>\n",
       "      <td>22.444444</td>\n",
       "      <td><img src=\"data/pokemon/icons/pokemon_icon_491_00.png\"/></td>\n",
       "    </tr>\n",
       "    <tr>\n",
       "      <th>492</th>\n",
       "      <td>Shaymin</td>\n",
       "      <td>Grass</td>\n",
       "      <td>NaN</td>\n",
       "      <td>0.2</td>\n",
       "      <td>2.1</td>\n",
       "      <td>3265</td>\n",
       "      <td>4</td>\n",
       "      <td>False</td>\n",
       "      <td>52.500000</td>\n",
       "      <td><img src=\"data/pokemon/icons/pokemon_icon_492_11.png\"/></td>\n",
       "    </tr>\n",
       "  </tbody>\n",
       "</table>"
      ],
      "text/plain": [
       "<IPython.core.display.HTML object>"
      ]
     },
     "execution_count": 16,
     "metadata": {},
     "output_type": "execute_result"
    }
   ],
   "source": [
    "df_pokemon['bmi'] = df_pokemon.weight / (df_pokemon.height**2)\n",
    "display_(df_pokemon)"
   ]
  },
  {
   "cell_type": "markdown",
   "metadata": {},
   "source": [
    "Now, which Pokémon is tallest? To find out, we can sort by `height`."
   ]
  },
  {
   "cell_type": "code",
   "execution_count": 17,
   "metadata": {
    "ExecuteTime": {
     "end_time": "2018-12-06T05:33:06.925079Z",
     "start_time": "2018-12-06T05:33:06.911300Z"
    }
   },
   "outputs": [
    {
     "data": {
      "text/html": [
       "<table border=\"1\" class=\"dataframe\">\n",
       "  <thead>\n",
       "    <tr style=\"text-align: right;\">\n",
       "      <th></th>\n",
       "      <th>name</th>\n",
       "      <th>type1</th>\n",
       "      <th>type2</th>\n",
       "      <th>height</th>\n",
       "      <th>weight</th>\n",
       "      <th>max_cp</th>\n",
       "      <th>generation</th>\n",
       "      <th>legendary</th>\n",
       "      <th>bmi</th>\n",
       "      <th>image</th>\n",
       "    </tr>\n",
       "    <tr>\n",
       "      <th>id</th>\n",
       "      <th></th>\n",
       "      <th></th>\n",
       "      <th></th>\n",
       "      <th></th>\n",
       "      <th></th>\n",
       "      <th></th>\n",
       "      <th></th>\n",
       "      <th></th>\n",
       "      <th></th>\n",
       "      <th></th>\n",
       "    </tr>\n",
       "  </thead>\n",
       "  <tbody>\n",
       "    <tr>\n",
       "      <th>321</th>\n",
       "      <td>Wailord</td>\n",
       "      <td>Water</td>\n",
       "      <td>NaN</td>\n",
       "      <td>14.50</td>\n",
       "      <td>398.0</td>\n",
       "      <td>2258</td>\n",
       "      <td>3</td>\n",
       "      <td>False</td>\n",
       "      <td>1.892985</td>\n",
       "      <td><img src=\"data/pokemon/icons/pokemon_icon_321_00.png\"/></td>\n",
       "    </tr>\n",
       "    <tr>\n",
       "      <th>208</th>\n",
       "      <td>Steelix</td>\n",
       "      <td>Ground</td>\n",
       "      <td>Steel</td>\n",
       "      <td>9.19</td>\n",
       "      <td>400.0</td>\n",
       "      <td>2439</td>\n",
       "      <td>2</td>\n",
       "      <td>False</td>\n",
       "      <td>4.736188</td>\n",
       "      <td><img src=\"data/pokemon/icons/pokemon_icon_208_00.png\"/></td>\n",
       "    </tr>\n",
       "    <tr>\n",
       "      <th>...</th>\n",
       "      <td>...</td>\n",
       "      <td>...</td>\n",
       "      <td>...</td>\n",
       "      <td>...</td>\n",
       "      <td>...</td>\n",
       "      <td>...</td>\n",
       "      <td>...</td>\n",
       "      <td>...</td>\n",
       "      <td>...</td>\n",
       "      <td>...</td>\n",
       "    </tr>\n",
       "    <tr>\n",
       "      <th>433</th>\n",
       "      <td>Chingling</td>\n",
       "      <td>Psychic</td>\n",
       "      <td>NaN</td>\n",
       "      <td>0.20</td>\n",
       "      <td>0.6</td>\n",
       "      <td>1005</td>\n",
       "      <td>4</td>\n",
       "      <td>False</td>\n",
       "      <td>15.000000</td>\n",
       "      <td><img src=\"data/pokemon/icons/pokemon_icon_433_00.png\"/></td>\n",
       "    </tr>\n",
       "    <tr>\n",
       "      <th>492</th>\n",
       "      <td>Shaymin</td>\n",
       "      <td>Grass</td>\n",
       "      <td>NaN</td>\n",
       "      <td>0.20</td>\n",
       "      <td>2.1</td>\n",
       "      <td>3265</td>\n",
       "      <td>4</td>\n",
       "      <td>False</td>\n",
       "      <td>52.500000</td>\n",
       "      <td><img src=\"data/pokemon/icons/pokemon_icon_492_11.png\"/></td>\n",
       "    </tr>\n",
       "  </tbody>\n",
       "</table>"
      ],
      "text/plain": [
       "<IPython.core.display.HTML object>"
      ]
     },
     "execution_count": 17,
     "metadata": {},
     "output_type": "execute_result"
    }
   ],
   "source": [
    "display_(df_pokemon.sort_values(by='height', ascending=False))"
   ]
  },
  {
   "cell_type": "markdown",
   "metadata": {},
   "source": [
    "The data in different columns have different types. Calling `dtypes` (short for data types) on a DataFrame gives you a list of its columns and their corresponding data types:"
   ]
  },
  {
   "cell_type": "code",
   "execution_count": 18,
   "metadata": {
    "ExecuteTime": {
     "end_time": "2018-12-06T05:33:06.995211Z",
     "start_time": "2018-12-06T05:33:06.990574Z"
    }
   },
   "outputs": [
    {
     "data": {
      "text/plain": [
       "name          object\n",
       "type1         object\n",
       "              ...   \n",
       "legendary       bool\n",
       "bmi          float64\n",
       "Length: 9, dtype: object"
      ]
     },
     "execution_count": 18,
     "metadata": {},
     "output_type": "execute_result"
    }
   ],
   "source": [
    "df_pokemon.dtypes"
   ]
  },
  {
   "cell_type": "markdown",
   "metadata": {
    "ExecuteTime": {
     "end_time": "2018-11-01T09:05:06.395382Z",
     "start_time": "2018-11-01T09:05:06.389404Z"
    }
   },
   "source": [
    "The 7 different data types in Pandas are:\n",
    "    \n",
    "| Data Type  | Description                       | Example                 |\n",
    "| ---------- | --------------------------------- | ------------------------|\n",
    "| object     | Text                              | Hello World             |\n",
    "| int64      | Integer numbers                   | 0, 1, -123, 9876        |\n",
    "| float64    | Floating point numbers            | 0.0001, 3.14159         |\n",
    "| bool       | True/false values                 | True, False             |\n",
    "| datetime64 | Date and time values              | 2007-06-29 09:41:00     |\n",
    "| timedelta  | Differences between two datetimes | 42 seconds              |\n",
    "| category   | Finite list of text values        | [apple, banana, carrot] |"
   ]
  },
  {
   "cell_type": "markdown",
   "metadata": {},
   "source": [
    "## Plotting"
   ]
  },
  {
   "cell_type": "markdown",
   "metadata": {},
   "source": [
    "Finally, let's round out this introduction to Pandas by visualising the `max_cp` of legendary Pokémon across different generations."
   ]
  },
  {
   "cell_type": "markdown",
   "metadata": {},
   "source": [
    "To do this, let's start off by isolating the legendary Pokémon to a new DataFrame:"
   ]
  },
  {
   "cell_type": "code",
   "execution_count": 19,
   "metadata": {
    "ExecuteTime": {
     "end_time": "2018-12-06T05:33:07.153421Z",
     "start_time": "2018-12-06T05:33:07.142634Z"
    }
   },
   "outputs": [
    {
     "data": {
      "text/html": [
       "<table border=\"1\" class=\"dataframe\">\n",
       "  <thead>\n",
       "    <tr style=\"text-align: right;\">\n",
       "      <th></th>\n",
       "      <th>name</th>\n",
       "      <th>type1</th>\n",
       "      <th>type2</th>\n",
       "      <th>height</th>\n",
       "      <th>weight</th>\n",
       "      <th>max_cp</th>\n",
       "      <th>generation</th>\n",
       "      <th>legendary</th>\n",
       "      <th>bmi</th>\n",
       "      <th>image</th>\n",
       "    </tr>\n",
       "    <tr>\n",
       "      <th>id</th>\n",
       "      <th></th>\n",
       "      <th></th>\n",
       "      <th></th>\n",
       "      <th></th>\n",
       "      <th></th>\n",
       "      <th></th>\n",
       "      <th></th>\n",
       "      <th></th>\n",
       "      <th></th>\n",
       "      <th></th>\n",
       "    </tr>\n",
       "  </thead>\n",
       "  <tbody>\n",
       "    <tr>\n",
       "      <th>144</th>\n",
       "      <td>Articuno</td>\n",
       "      <td>Flying</td>\n",
       "      <td>Ice</td>\n",
       "      <td>1.7</td>\n",
       "      <td>55.4</td>\n",
       "      <td>2933</td>\n",
       "      <td>1</td>\n",
       "      <td>True</td>\n",
       "      <td>19.169550</td>\n",
       "      <td><img src=\"data/pokemon/icons/pokemon_icon_144_00.png\"/></td>\n",
       "    </tr>\n",
       "    <tr>\n",
       "      <th>145</th>\n",
       "      <td>Zapdos</td>\n",
       "      <td>Electric</td>\n",
       "      <td>Flying</td>\n",
       "      <td>1.6</td>\n",
       "      <td>52.6</td>\n",
       "      <td>3330</td>\n",
       "      <td>1</td>\n",
       "      <td>True</td>\n",
       "      <td>20.546875</td>\n",
       "      <td><img src=\"data/pokemon/icons/pokemon_icon_145_00.png\"/></td>\n",
       "    </tr>\n",
       "    <tr>\n",
       "      <th>...</th>\n",
       "      <td>...</td>\n",
       "      <td>...</td>\n",
       "      <td>...</td>\n",
       "      <td>...</td>\n",
       "      <td>...</td>\n",
       "      <td>...</td>\n",
       "      <td>...</td>\n",
       "      <td>...</td>\n",
       "      <td>...</td>\n",
       "      <td>...</td>\n",
       "    </tr>\n",
       "    <tr>\n",
       "      <th>487</th>\n",
       "      <td>Giratina</td>\n",
       "      <td>Dragon</td>\n",
       "      <td>Ghost</td>\n",
       "      <td>4.5</td>\n",
       "      <td>750.0</td>\n",
       "      <td>3379</td>\n",
       "      <td>4</td>\n",
       "      <td>True</td>\n",
       "      <td>37.037037</td>\n",
       "      <td><img src=\"data/pokemon/icons/pokemon_icon_487_11.png\"/></td>\n",
       "    </tr>\n",
       "    <tr>\n",
       "      <th>488</th>\n",
       "      <td>Cresselia</td>\n",
       "      <td>Psychic</td>\n",
       "      <td>NaN</td>\n",
       "      <td>1.5</td>\n",
       "      <td>85.6</td>\n",
       "      <td>2857</td>\n",
       "      <td>4</td>\n",
       "      <td>True</td>\n",
       "      <td>38.044444</td>\n",
       "      <td><img src=\"data/pokemon/icons/pokemon_icon_488_00.png\"/></td>\n",
       "    </tr>\n",
       "  </tbody>\n",
       "</table>"
      ],
      "text/plain": [
       "<IPython.core.display.HTML object>"
      ]
     },
     "execution_count": 19,
     "metadata": {},
     "output_type": "execute_result"
    }
   ],
   "source": [
    "df_legendary_pokemon = df_pokemon[df_pokemon.legendary]\n",
    "display_(df_legendary_pokemon)"
   ]
  },
  {
   "cell_type": "markdown",
   "metadata": {
    "ExecuteTime": {
     "end_time": "2018-11-02T03:19:55.572672Z",
     "start_time": "2018-11-02T03:19:55.569328Z"
    }
   },
   "source": [
    "Then we group them together by generation, calculating the average `max_cp` within each generation group:"
   ]
  },
  {
   "cell_type": "code",
   "execution_count": 20,
   "metadata": {
    "ExecuteTime": {
     "end_time": "2018-12-06T05:33:08.947898Z",
     "start_time": "2018-12-06T05:33:08.943359Z"
    }
   },
   "outputs": [
    {
     "data": {
      "text/plain": [
       "generation\n",
       "1    3415.000000\n",
       "2    3286.750000\n",
       "3    3406.125000\n",
       "4    3460.888889\n",
       "Name: max_cp, dtype: float64"
      ]
     },
     "execution_count": 20,
     "metadata": {},
     "output_type": "execute_result"
    }
   ],
   "source": [
    "average_max_cp_by_generation = df_legendary_pokemon.groupby('generation').max_cp.mean()\n",
    "average_max_cp_by_generation"
   ]
  },
  {
   "cell_type": "markdown",
   "metadata": {},
   "source": [
    "Now we can go ahead and plot the series:"
   ]
  },
  {
   "cell_type": "code",
   "execution_count": 21,
   "metadata": {
    "ExecuteTime": {
     "end_time": "2018-12-06T05:33:09.104307Z",
     "start_time": "2018-12-06T05:33:09.000938Z"
    },
    "tags": [
     "ignore-output"
    ]
   },
   "outputs": [
    {
     "data": {
      "image/png": "[encoded data removed]",
      "text/plain": [
       "<Figure size 432x288 with 1 Axes>"
      ]
     },
     "metadata": {},
     "output_type": "display_data"
    }
   ],
   "source": [
    "average_max_cp_by_generation.plot(kind='bar', title='Average max_cp vs. Generation');"
   ]
  },
  {
   "cell_type": "code",
   "execution_count": 135,
   "metadata": {
    "ExecuteTime": {
     "end_time": "2018-12-06T07:34:48.105245Z",
     "start_time": "2018-12-06T07:34:47.979706Z"
    },
    "tags": [
     "ignore-input"
    ]
   },
   "outputs": [
    {
     "data": {
      "image/png": "[encoded data removed]",
      "text/plain": [
       "<Figure size 576x432 with 1 Axes>"
      ]
     },
     "metadata": {},
     "output_type": "display_data"
    }
   ],
   "source": [
    "with plt.style.context(('plot.mplstyle')):\n",
    "    fig, ax = plt.subplots()\n",
    "    average_max_cp_by_generation.plot.bar(\n",
    "        figsize=(8, 6),\n",
    "#         ylim=(3200, 3500),\n",
    "        fontsize=16,\n",
    "        color='#ffc018',\n",
    "    );\n",
    "    \n",
    "    plt.text(0.125, 1, '\\n' + 'Pokémon Max Combat Power', family='Source Sans Pro', fontsize=21, fontweight='bold', transform=plt.gcf().transFigure)\n",
    "    plt.text(0.125, 0.94, 'Average Max Combat Power', family='Source Sans Pro', fontsize=16, transform=plt.gcf().transFigure)\n",
    "    plt.text(0.95, 0.5, '\\n', transform=plt.gcf().transFigure)\n",
    "    plt.text(0.1, 0.5, '\\n', transform=plt.gcf().transFigure)\n",
    "    plt.xlabel('' + 'Generation' + '\\n\\n', color='0.6', family='Source Sans Pro', fontsize=16, fontstyle='italic')\n",
    "    plt.tick_params(labelsize=14)\n",
    "    ax.yaxis.tick_right()\n",
    "\n",
    "    # footer\n",
    "    ax.add_line(lines.Line2D([0.125, 0.9], [0.01, 0.01], linewidth=1, color='0.7', clip_on=False, transform=fig.transFigure))\n",
    "    plt.text(0.125, 0, 'ActaMachina.com' + '\\n', color='0.6', family='Source Sans Pro', fontsize=14, horizontalalignment='left', verticalalignment='top', transform=plt.gcf().transFigure)\n",
    "    plt.text(0.9, 0, 'Source: GamePress' + '\\n', color='0.6', family='Source Sans Pro', fontsize=14, horizontalalignment='right', verticalalignment='top', transform=plt.gcf().transFigure)"
   ]
  },
  {
   "cell_type": "markdown",
   "metadata": {
    "ExecuteTime": {
     "end_time": "2018-11-02T03:21:46.258656Z",
     "start_time": "2018-11-02T03:21:46.256282Z"
    }
   },
   "source": [
    "Since all the values are bunched up close together, we can change the y-axis limits to make the differences more pronounced:"
   ]
  },
  {
   "cell_type": "code",
   "execution_count": 22,
   "metadata": {
    "ExecuteTime": {
     "end_time": "2018-12-06T05:33:09.242380Z",
     "start_time": "2018-12-06T05:33:09.140093Z"
    },
    "scrolled": true,
    "tags": [
     "ignore-output"
    ]
   },
   "outputs": [
    {
     "data": {
      "image/png": "[encoded data removed]",
      "text/plain": [
       "<Figure size 432x288 with 1 Axes>"
      ]
     },
     "metadata": {},
     "output_type": "display_data"
    }
   ],
   "source": [
    "average_max_cp_by_generation.plot.bar(ylim=(3200, 3500), title='Average max_cp vs. Generation');"
   ]
  },
  {
   "cell_type": "code",
   "execution_count": 139,
   "metadata": {
    "ExecuteTime": {
     "end_time": "2018-12-06T07:35:41.178022Z",
     "start_time": "2018-12-06T07:35:41.053008Z"
    },
    "tags": [
     "ignore-input"
    ]
   },
   "outputs": [
    {
     "data": {
      "image/png": "[encoded data removed]",
      "text/plain": [
       "<Figure size 576x432 with 1 Axes>"
      ]
     },
     "metadata": {},
     "output_type": "display_data"
    }
   ],
   "source": [
    "with plt.style.context(('plot.mplstyle')):\n",
    "    fig, ax = plt.subplots()\n",
    "    average_max_cp_by_generation.plot.bar(\n",
    "        figsize=(8, 6),\n",
    "        ylim=(3200, 3500),\n",
    "        fontsize=16,\n",
    "        color='#ffc018',\n",
    "    );\n",
    "    \n",
    "    plt.text(0.125, 1, '\\n' + 'Pokémon Max Combat Power', family='Source Sans Pro', fontsize=21, fontweight='bold', transform=plt.gcf().transFigure)\n",
    "    plt.text(0.125, 0.94, 'Average Max Combat Power', family='Source Sans Pro', fontsize=16, transform=plt.gcf().transFigure)\n",
    "    plt.text(0.95, 0.5, '\\n', transform=plt.gcf().transFigure)\n",
    "    plt.text(0.1, 0.5, '\\n', transform=plt.gcf().transFigure)\n",
    "    plt.xlabel('' + 'Generation' + '\\n\\n', color='0.6', family='Source Sans Pro', fontsize=16, fontstyle='italic')\n",
    "    plt.tick_params(labelsize=14)\n",
    "    ax.yaxis.tick_right()\n",
    "\n",
    "    # footer\n",
    "    ax.add_line(lines.Line2D([0.125, 0.9], [0.01, 0.01], linewidth=1, color='0.7', clip_on=False, transform=fig.transFigure))\n",
    "    plt.text(0.125, 0, 'ActaMachina.com' + '\\n', color='0.6', family='Source Sans Pro', fontsize=14, horizontalalignment='left', verticalalignment='top', transform=plt.gcf().transFigure)\n",
    "    plt.text(0.9, 0, 'Source: GamePress' + '\\n', color='0.6', family='Source Sans Pro', fontsize=14, horizontalalignment='right', verticalalignment='top', transform=plt.gcf().transFigure)"
   ]
  },
  {
   "cell_type": "markdown",
   "metadata": {
    "ExecuteTime": {
     "end_time": "2018-11-02T03:35:40.297177Z",
     "start_time": "2018-11-02T03:35:40.286655Z"
    }
   },
   "source": [
    "And that's it! It seems that, on average, the legendary Pokémon in Generation 4 are the strongest while those in Generation 2 are the weakest."
   ]
  },
  {
   "cell_type": "markdown",
   "metadata": {},
   "source": [
    "## Summary and Next Steps"
   ]
  },
  {
   "cell_type": "markdown",
   "metadata": {},
   "source": [
    "In this post, you've learnt how to:\n",
    "- create DataFrames (the equivalent of a spreadsheet);\n",
    "- select data from DataFrames;\n",
    "- group data and make meaningful aggregations; and\n",
    "- plot the data.\n",
    "\n",
    "You're now familiar with basic analysis and data manipulation using Pandas. This will go a long way in helping you understand how data scientists and machine learning engineers manipulate data and will be indispensible over the next few posts and beyond.\n",
    "\n",
    "If you'd like to learn more about the full power of Pandas (such as merging datasets, dealing with time series data and exporting datasets), I recommend reading through the extremely well-written [Pandas documentation](https://pandas.pydata.org/pandas-docs/stable/tutorials.html). The author of Pandas, Wes McKinney, has also written a book, [Python for Data Analysis: Data Wrangling with Pandas, NumPy, and IPython](https://www.amazon.com/Python-Data-Analysis-Wrangling-IPython/dp/1491957662), that is clear and full of examples."
   ]
  },
  {
   "cell_type": "markdown",
   "metadata": {},
   "source": [
    "## Acknowledgements"
   ]
  },
  {
   "cell_type": "markdown",
   "metadata": {},
   "source": [
    "This post has been inspired by posts from:\n",
    "\n",
    "- [10 Minute to Pandas](https://pandas.pydata.org/pandas-docs/stable/10min.html)\n",
    "- [A Gentle Visual Intro to Data Analysis in Python Using Pandas](https://jalammar.github.io/gentle-visual-intro-to-data-analysis-python-pandas/)\n",
    "- [GamePress Pokémon List](https://pokemongo.gamepress.gg/pokemon-list)\n",
    "- [Kaggle Data Visualization Course](https://www.kaggle.com/learn/data-visualisation)\n",
    "- [Kaggle Pandas Course](https://www.kaggle.com/learn/pandas)"
   ]
  },
  {
   "cell_type": "markdown",
   "metadata": {
    "tags": [
     "ignore"
    ]
   },
   "source": [
    "## Notes"
   ]
  },
  {
   "cell_type": "markdown",
   "metadata": {
    "tags": [
     "ignore"
    ]
   },
   "source": [
    "$ jupyter nbconvert --to html --template basic 00-pokemon.ipynb --TagRemovePreprocessor.remove_cell_tags={\\\"ignore\\\"} --TagRemovePreprocessor.remove_input_tags={\\\"ignore-input\\\"} --TagRemovePreprocessor.remove_all_outputs_tags={\\\"ignore-output\\\"}\n",
    "\n",
    "Search/Replace:\n",
    "- display_(.+) with \\1\n",
    "- data/pokemon/icons/pokemon_icon with /assets/images/01-pokemon_icon"
   ]
  },
  {
   "cell_type": "code",
   "execution_count": 23,
   "metadata": {
    "ExecuteTime": {
     "end_time": "2018-12-06T05:33:09.465167Z",
     "start_time": "2018-12-06T05:33:09.306579Z"
    },
    "tags": [
     "ignore"
    ]
   },
   "outputs": [
    {
     "name": "stdout",
     "output_type": "stream",
     "text": [
      "['Liberation Sans', 'Padauk', 'DejaVu Sans', 'mry_KacstQurn', 'Lato', 'Lato', 'Tlwg Mono', 'Tlwg Typewriter', 'Umpush', 'FreeMono', 'Umpush', 'STIXVariants', 'NanumGothic', 'STIXSizeFourSym', 'KacstTitleL', 'FreeSerif', 'STIX Math', 'Norasi', 'DejaVu Sans', 'Source Sans Pro', 'Loma', 'Liberation Sans Narrow', 'Liberation Sans Narrow', 'KacstBook', 'Source Sans Pro', 'DejaVu Sans', 'Norasi', 'DejaVu Serif', 'STIX', 'Sawasdee', 'Ubuntu Condensed', 'FreeSerif', 'Liberation Sans', 'KacstOffice', 'Umpush', 'Source Sans Pro', 'STIXGeneral', 'FreeSans', 'Sawasdee', 'Umpush', 'Tlwg Typo', 'TakaoPGothic', 'FreeSans', 'Waree', 'KacstOne', 'Lato', 'Source Sans Pro', 'Lato', 'Source Sans Pro', 'Tlwg Typo', 'Laksaman', 'STIXSizeThreeSym', 'DejaVu Sans', 'KacstArt', 'Liberation Mono', 'KacstPen', 'DejaVu Serif', 'Liberation Serif', 'Liberation Mono', 'Khmer OS System', 'Ubuntu', 'KacstQurn', 'STIXIntegralsSm', 'Ubuntu', 'Ubuntu Mono', 'Kinnari', 'STIXSizeOneSym', 'Tlwg Mono', 'Ubuntu Mono', 'NanumMyeongjo', 'Padauk Book', 'KacstDecorative', 'Loma', 'Garuda', 'FreeSerif', 'STIXSizeFiveSym', 'Ubuntu', 'Tlwg Typewriter', 'DejaVu Serif', 'Ubuntu', 'Source Sans Pro', 'FreeMono', 'DejaVu Sans', 'Liberation Sans', 'Ubuntu', 'Norasi', 'STIXIntegralsUpSm', 'Laksaman', 'Lato', 'Liberation Serif', 'Lato', 'DejaVu Sans', 'DejaVu Sans Mono', 'TakaoPGothic', 'Waree', 'Liberation Sans', 'DejaVu Sans', 'STIXGeneral', 'Tlwg Typist', 'Norasi', 'STIXNonUnicode', 'Kinnari', 'Khmer OS', 'Liberation Sans Narrow', 'Sawasdee', 'Purisa', 'Liberation Mono', 'DejaVu Sans Mono', 'STIXIntegralsUpD', 'FreeSerif', 'Loma', 'Tlwg Typist', 'Lato', 'Tibetan Machine Uni', 'OpenSymbol', 'Liberation Serif', 'STIXSizeTwoSym', 'Sawasdee', 'Umpush', 'Waree', 'DejaVu Sans Mono', 'Lato', 'Waree', 'STIXVariants', 'Ubuntu', 'Padauk Book', 'STIXSizeFourSym', 'Tlwg Mono', 'Lato', 'Ubuntu Mono', 'NanumMyeongjo', 'STIXNonUnicode', 'DejaVu Serif', 'Loma', 'Lato', 'Lato', 'DejaVu Sans', 'KacstDigital', 'KacstTitle', 'Source Sans Pro', 'Liberation Sans Narrow', 'Garuda', 'Garuda', 'DejaVu Serif', 'NanumBarunGothic', 'Lato', 'Purisa', 'Source Sans Pro', 'Lato', 'DejaVu Serif', 'DejaVu Sans', 'LKLUG', 'Tlwg Typo', 'Lato', 'KacstNaskh', 'STIXSizeThreeSym', 'KacstLetter', 'Tlwg Typist', 'Tlwg Typewriter', 'Ubuntu Mono', 'Kinnari', 'Norasi', 'Source Sans Pro', 'Lato', 'STIXIntegralsUp', 'Padauk', 'KacstOne', 'DejaVu Serif', 'Tlwg Typewriter', 'STIXIntegralsD', 'Kinnari', 'Purisa', 'Norasi', 'KacstFarsi', 'Source Sans Pro', 'Laksaman', 'STIXIntegralsSm', 'STIX', 'DejaVu Serif', 'STIXGeneral', 'NanumBarunGothic', 'Abyssinica SIL', 'Lohit Punjabi', 'STIX', 'Lato', 'Kinnari', 'Liberation Serif', 'Umpush', 'DejaVu Sans Mono', 'FreeMono', 'Phetsarath OT', 'STIXNonUnicode', 'Liberation Mono', 'Tlwg Mono', 'STIXIntegralsD', 'Saab', 'Tlwg Typo', 'FreeSans', 'FreeMono', 'NanumGothic', 'Tlwg Typist', 'Lato', 'Laksaman', 'STIXIntegralsUp', 'STIXSizeTwoSym', 'Source Sans Pro', 'FreeSans', 'Ubuntu', 'STIXGeneral', 'KacstScreen', 'STIXIntegralsUpD', 'Kinnari', 'STIXSizeOneSym', 'STIXNonUnicode', 'Source Sans Pro', 'KacstPoster', 'STIX', 'Garuda', 'Purisa', 'Ubuntu', 'Symbola', 'Lato', 'STIXIntegralsUpSm']\n"
     ]
    }
   ],
   "source": [
    "# /usr/share/fonts/truetype\n",
    "# sudo fc-cache -fv\n",
    "# rm -fr ~/.cache/matplotlib\n",
    "\n",
    "import matplotlib.font_manager\n",
    "\n",
    "flist = matplotlib.font_manager.get_fontconfig_fonts()\n",
    "names = [matplotlib.font_manager.FontProperties(fname=fname).get_name() for fname in flist]\n",
    "print(names)"
   ]
  }
 ],
 "metadata": {
  "celltoolbar": "Tags",
  "kernelspec": {
   "display_name": "Python 3",
   "language": "python",
   "name": "python3"
  },
  "language_info": {
   "codemirror_mode": {
    "name": "ipython",
    "version": 3
   },
   "file_extension": ".py",
   "mimetype": "text/x-python",
   "name": "python",
   "nbconvert_exporter": "python",
   "pygments_lexer": "ipython3",
   "version": "3.6.5"
  },
  "varInspector": {
   "cols": {
    "lenName": 16,
    "lenType": 16,
    "lenVar": 40
   },
   "kernels_config": {
    "python": {
     "delete_cmd_postfix": "",
     "delete_cmd_prefix": "del ",
     "library": "var_list.py",
     "varRefreshCmd": "print(var_dic_list())"
    },
    "r": {
     "delete_cmd_postfix": ") ",
     "delete_cmd_prefix": "rm(",
     "library": "var_list.r",
     "varRefreshCmd": "cat(var_dic_list()) "
    }
   },
   "types_to_exclude": [
    "module",
    "function",
    "builtin_function_or_method",
    "instance",
    "_Feature"
   ],
   "window_display": false
  }
 },
 "nbformat": 4,
 "nbformat_minor": 2
}
